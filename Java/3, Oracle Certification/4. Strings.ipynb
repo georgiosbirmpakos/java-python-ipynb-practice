{
 "cells": [
  {
   "cell_type": "markdown",
   "id": "634b53c0",
   "metadata": {},
   "source": [
    "# String Methods — Interview Q&A\n",
    "\n",
    "**Q:** How do you create and concatenate strings in Java?  \n",
    "**A:** Use string literals (`\"John\"`) or the constructor (`new String(\"John\")`). Concatenate with `+` (left-to-right rules) or `concat()`. If either operand is a `String`, `+` performs concatenation; if both are numeric, it performs addition. :contentReference[oaicite:0]{index=0}\n",
    "\n",
    "**Q:** What are the basic indexing/search methods and their edge cases?  \n",
    "**A:** `length()`, `charAt(idx)`, `indexOf(char|String[, fromIndex])`, and `substring(begin[, end])` (end is exclusive). `charAt`/`substring` throw `StringIndexOutOfBoundsException` when out of range; `indexOf` returns `-1` if not found. :contentReference[oaicite:1]{index=1}\n",
    "\n",
    "**Q:** How do case-conversion and equality checks differ?  \n",
    "**A:** `toLowerCase()`/`toUpperCase()` return new strings. `equals()` is case-sensitive, `equalsIgnoreCase()` is not; `==` compares references, not content. :contentReference[oaicite:2]{index=2}\n",
    "\n",
    "**Q:** How do prefix/suffix and containment checks work?  \n",
    "**A:** `startsWith(String)` and `endsWith(String)` check prefixes/suffixes; argument must be `String` (not `char`). `contains(String)` checks for a substring. :contentReference[oaicite:3]{index=3}\n",
    "\n",
    "**Q:** What’s the difference among `trim()`, `strip()`, `stripLeading()`, and `stripTrailing()`?  \n",
    "**A:** `strip*` handle Unicode whitespace; `trim()` is legacy. `stripLeading()`/`stripTrailing()` remove from just one side. :contentReference[oaicite:4]{index=4}\n",
    "\n",
    "**Q:** What do `indent(int)` and `stripIndent()` do?  \n",
    "**A:** `indent(n)` adds/removes leading spaces per line (normalizes line breaks and adds a trailing newline if missing). `stripIndent()` removes common incidental indentation and does **not** add a trailing newline. :contentReference[oaicite:5]{index=5}\n",
    "\n",
    "**Q:** How do you interpret escape sequences in a string literal at runtime?  \n",
    "**A:** `translateEscapes()` converts sequences like `\\\\t` into actual tab characters. :contentReference[oaicite:6]{index=6}\n",
    "\n",
    "**Q:** `isEmpty()` vs `isBlank()`?  \n",
    "**A:** `isEmpty()` is true only for length 0. `isBlank()` is true for empty or whitespace-only strings. :contentReference[oaicite:7]{index=7}\n",
    "\n",
    "**Q:** How do you format strings?  \n",
    "**A:** Use `String.format(...)` or the instance method `formatted(...)` with `%s`, `%d`, `%f`, `%n`, etc. :contentReference[oaicite:8]{index=8}\n",
    "\n",
    "**Q:** What does “Strings are immutable” mean in practice?  \n",
    "**A:** Methods like `toUpperCase()` return new objects; the original is unchanged unless you reassign. Method chaining works because each call returns a new `String`. :contentReference[oaicite:9]{index=9}\n",
    "\n",
    "**Quick takeaways**\n",
    "- Concatenation: `+` (left-to-right) or `concat()`. :contentReference[oaicite:10]{index=10}  \n",
    "- Index/search: `length`, `charAt`, `indexOf`, `substring` (end exclusive). :contentReference[oaicite:11]{index=11}  \n",
    "- Equality: prefer `equals`/`equalsIgnoreCase`; `==` checks references. :contentReference[oaicite:12]{index=12}  \n",
    "- Whitespace handling: prefer `strip*` over `trim` for Unicode. :contentReference[oaicite:13]{index=13}  \n",
    "- Pretty text: `indent`, `stripIndent`, `translateEscapes`. :contentReference[oaicite:14]{index=14}  \n",
    "- Formatting: `format` / `formatted`. Chaining is natural because strings are immutable. :contentReference[oaicite:15]{index=15}\n"
   ]
  },
  {
   "cell_type": "code",
   "execution_count": null,
   "id": "0e048564",
   "metadata": {
    "vscode": {
     "languageId": "java"
    }
   },
   "outputs": [
    {
     "name": "stdout",
     "output_type": "stream",
     "text": [
      "concat(+): John 38\n",
      "concat(+ with parens): John 11\n",
      "concat(concat): John Wayne\n",
      "length: 15\n",
      "charAt(3): t\n",
      "indexOf('t'): 3\n",
      "indexOf('t',5): 11\n",
      "indexOf(\"cto\"): 2\n",
      "substring(3): tor Dolittle\n",
      "substring(3,8): tor D\n"
     ]
    }
   ],
   "source": [
    "// Creation & concatenation (left-to-right evaluation)\n",
    "String s1 = \"John\";\n",
    "String s2 = new String(\"Wayne\");\n",
    "System.out.println(\"concat(+): \" + (\"John\" + \" \" + 3 + 8));   // \"John 38\"\n",
    "System.out.println(\"concat(+ with parens): \" + (\"John \" + (3 + 8))); // \"John 11\"\n",
    "System.out.println(\"concat(concat): \" + s1.concat(\" \").concat(s2));\n",
    "\n",
    "// length, charAt, indexOf, substring\n",
    "String name = \"Doctor Dolittle\";\n",
    "System.out.println(\"length: \" + name.length());\n",
    "System.out.println(\"charAt(3): \" + name.charAt(3));          // 't'\n",
    "System.out.println(\"indexOf('t'): \" + name.indexOf('t'));     // 3\n",
    "System.out.println(\"indexOf('t',5): \" + name.indexOf('t', 5));// 11 Because starting the search from index 5, the first 't' occurs at position 11 in \"Doctor Dolittle\".\n",
    "System.out.println(\"indexOf(\\\"cto\\\"): \" + name.indexOf(\"cto\"));// 2\n",
    "System.out.println(\"substring(3): \" + name.substring(3));      // \"tor Dolittle\"\n",
    "System.out.println(\"substring(3,8): \" + name.substring(3, 8)); // \"tor D\"\n"
   ]
  },
  {
   "cell_type": "code",
   "execution_count": 6,
   "id": "2be690ab",
   "metadata": {
    "vscode": {
     "languageId": "java"
    }
   },
   "outputs": [
    {
     "name": "stdout",
     "output_type": "stream",
     "text": [
      "toLowerCase: john wayne\n",
      "toUpperCase: JOHN WAYNE\n",
      "equals: false\n",
      "equalsIgnoreCase: true\n",
      "== (reference): false\n",
      "startsWith(\"Jo\"): true\n",
      "endsWith(\"ne\"): true\n",
      "contains(\"Way\"): true\n",
      "replace('c','y'): abydeaby\n",
      "replace(\"bcd\",\"xyz\"): axyzeabc\n",
      "|abc|\n",
      "|abc|\n",
      "|abc  \n",
      "|\n",
      "| \t  abc|\n"
     ]
    }
   ],
   "source": [
    "\n",
    "// Case conversion & equality\n",
    "String a = \"John Wayne\";\n",
    "String b = \"john wayne\";\n",
    "System.out.println(\"toLowerCase: \" + a.toLowerCase());\n",
    "System.out.println(\"toUpperCase: \" + a.toUpperCase());\n",
    "System.out.println(\"equals: \" + a.equals(b));                  // false\n",
    "System.out.println(\"equalsIgnoreCase: \" + a.equalsIgnoreCase(b)); // true\n",
    "System.out.println(\"== (reference): \" + (a == b));             // usually false\n",
    "\n",
    "// startsWith / endsWith / contains\n",
    "System.out.println(\"startsWith(\\\"Jo\\\"): \" + a.startsWith(\"Jo\"));\n",
    "System.out.println(\"endsWith(\\\"ne\\\"): \" + a.endsWith(\"ne\"));\n",
    "System.out.println(\"contains(\\\"Way\\\"): \" + a.contains(\"Way\"));\n",
    "\n",
    "// replace (char/char and String/String)\n",
    "String base = \"abcdeabc\";\n",
    "System.out.println(\"replace('c','y'): \" + base.replace('c','y'));     // \"abydeaby\"\n",
    "System.out.println(\"replace(\\\"bcd\\\",\\\"xyz\\\"): \" + base.replace(\"bcd\",\"xyz\")); // \"axyzeabc\"\n",
    "\n",
    "// strip family vs trim\n",
    "String ws = \" \\t  abc  \\n\";\n",
    "System.out.println(\"|\" + ws.strip() + \"|\");           // Unicode-aware\n",
    "System.out.println(\"|\" + ws.trim() + \"|\");\n",
    "System.out.println(\"|\" + ws.stripLeading() + \"|\");\n",
    "System.out.println(\"|\" + ws.stripTrailing() + \"|\");\n"
   ]
  },
  {
   "cell_type": "code",
   "execution_count": 4,
   "id": "def7e06e",
   "metadata": {
    "vscode": {
     "languageId": "java"
    }
   },
   "outputs": [
    {
     "name": "stdout",
     "output_type": "stream",
     "text": [
      "--indent(2)--\n",
      "       John\n",
      "      D.\n",
      "     Wayne\n",
      "\n",
      "--indent(-2)--\n",
      "   John\n",
      "  D.\n",
      " Wayne\n",
      "\n",
      "--stripIndent--\n",
      "  John\n",
      " D.\n",
      "Wayne\n",
      "literal: John\\tWayne\n",
      "translated: John\tWayne\n",
      "\"\".isEmpty(): true\n",
      "\"  \".isEmpty(): false\n",
      "\"\".isBlank(): true\n",
      "\"  \".isBlank(): true\n",
      "John has 5 marbles.\n",
      "John has 5 marbles.\n",
      "chained: JOHN WARNE\n",
      "immutable original: John Wayne\n",
      "reassigned: JOHN WAYNE\n"
     ]
    }
   ],
   "source": [
    "\n",
    "// indent / stripIndent / translateEscapes\n",
    "String block = \"     John\\n    D.\\n   Wayne\";\n",
    "System.out.println(\"--indent(2)--\\n\" + block.indent(2));\n",
    "System.out.println(\"--indent(-2)--\\n\" + block.indent(-2));\n",
    "System.out.println(\"--stripIndent--\\n\" + block.stripIndent());\n",
    "\n",
    "String withEscapes = \"John\\\\tWayne\";\n",
    "System.out.println(\"literal: \" + withEscapes);              // shows \\t\n",
    "System.out.println(\"translated: \" + withEscapes.translateEscapes()); // tab\n",
    "\n",
    "// isEmpty vs isBlank\n",
    "System.out.println(\"\\\"\\\".isEmpty(): \" + \"\".isEmpty());\n",
    "System.out.println(\"\\\"  \\\".isEmpty(): \" + \"  \".isEmpty());\n",
    "System.out.println(\"\\\"\\\".isBlank(): \" + \"\".isBlank());\n",
    "System.out.println(\"\\\"  \\\".isBlank(): \" + \"  \".isBlank());\n",
    "\n",
    "// Formatting: format / formatted\n",
    "String who = \"John\";\n",
    "int marbles = 5;\n",
    "System.out.println(String.format(\"%s has %d marbles.\", who, marbles));\n",
    "System.out.println(\"%s has %d marbles.\".formatted(who, marbles));\n",
    "\n",
    "// Method chaining & immutability\n",
    "String chained = \"   John Wayne \"\n",
    "        .trim()\n",
    "        .toUpperCase()\n",
    "        .replace('Y', 'R');\n",
    "System.out.println(\"chained: \" + chained); // \"JOHN WARNE\"\n",
    "\n",
    "String original = \"John Wayne\";\n",
    "original.toUpperCase();\n",
    "System.out.println(\"immutable original: \" + original); // unchanged\n",
    "String upper = original.toUpperCase();\n",
    "System.out.println(\"reassigned: \" + upper);            // changed value\n"
   ]
  },
  {
   "cell_type": "markdown",
   "id": "3fa178c0",
   "metadata": {},
   "source": [
    "# StringBuilder — Interview Q&A\n",
    "\n",
    "**Q:** How does `StringBuilder` differ from `String`?  \n",
    "**A:** `String` is immutable — operations return new objects. `StringBuilder` is mutable, meaning its contents can be modified in place without creating new objects.  \n",
    "\n",
    "**Q:** How do you create a `StringBuilder`?  \n",
    "**A:** With `new StringBuilder(\"text\")` or empty with `new StringBuilder()`.  \n",
    "\n",
    "**Q:** What are the most common mutator methods?  \n",
    "**A:** `append(...)`, `insert(...)`, `delete(start,end)`, `deleteCharAt(idx)`, `replace(start,end,str)`, `reverse()`.  \n",
    "\n",
    "**Q:** What does `toString()` do?  \n",
    "**A:** It converts a `StringBuilder` into an immutable `String`.  \n",
    "\n",
    "**Q:** How does equality checking differ?  \n",
    "**A:** `StringBuilder` does not override `equals()`. Both `==` and `equals()` compare references. To compare content, convert to `String` (`sb1.toString().equals(sb2.toString())`).  \n",
    "\n",
    "**Q:** What does `substring()` return when called on a `StringBuilder`?  \n",
    "**A:** It returns a new `String`, not another `StringBuilder`, and does not modify the builder.  \n",
    "\n",
    "**Quick takeaways**  \n",
    "- `StringBuilder` is mutable; `String` is not.  \n",
    "- Use `append`, `insert`, `delete`, `replace`, `reverse` for efficient modifications.  \n",
    "- Use `toString()` to convert back to `String`.  \n",
    "- Equality compares references unless converted to `String`.  \n",
    "- `substring()` is read-only and returns `String`.  \n"
   ]
  },
  {
   "cell_type": "code",
   "execution_count": 8,
   "id": "3644977d",
   "metadata": {
    "vscode": {
     "languageId": "java"
    }
   },
   "outputs": [
    {
     "name": "stdout",
     "output_type": "stream",
     "text": [
      "After append: John Wayne\n",
      "After insert: John D. Wayne\n",
      "delete(1,4): aef\n",
      "deleteCharAt(2): abdef\n",
      "replace(1,3,\"JOHN\"): aJOHNdef\n",
      "reverse(): AKUL\n",
      "==: false\n",
      "equals(): false\n",
      "content equals: true\n",
      "substring(2,6): hn W\n",
      "original unchanged: John Wayne\n"
     ]
    }
   ],
   "source": [
    "// Creation & mutability\n",
    "StringBuilder sb = new StringBuilder(\"John\");\n",
    "sb.append(\" Wayne\"); // modifies in place\n",
    "System.out.println(\"After append: \" + sb);\n",
    "\n",
    "// insert\n",
    "sb.insert(5, \"D. \");\n",
    "System.out.println(\"After insert: \" + sb);\n",
    "\n",
    "// delete & deleteCharAt\n",
    "StringBuilder sb2 = new StringBuilder(\"abcdef\");\n",
    "System.out.println(\"delete(1,4): \" + sb2.delete(1,4));   // removes bcd\n",
    "StringBuilder sb3 = new StringBuilder(\"abcdef\");\n",
    "System.out.println(\"deleteCharAt(2): \" + sb3.deleteCharAt(2)); // removes 'c'\n",
    "\n",
    "// replace\n",
    "StringBuilder sb4 = new StringBuilder(\"abcdef\");\n",
    "sb4.replace(1,3,\"JOHN\");\n",
    "System.out.println(\"replace(1,3,\\\"JOHN\\\"): \" + sb4);\n",
    "\n",
    "// reverse\n",
    "StringBuilder sb5 = new StringBuilder(\"LUKA\");\n",
    "System.out.println(\"reverse(): \" + sb5.reverse());\n",
    "\n",
    "// toString & equality\n",
    "StringBuilder sb6 = new StringBuilder(\"John Wayne\");\n",
    "StringBuilder sb7 = new StringBuilder(\"John Wayne\");\n",
    "System.out.println(\"==: \" + (sb6 == sb7));              // false\n",
    "System.out.println(\"equals(): \" + sb6.equals(sb7));    // false\n",
    "System.out.println(\"content equals: \" + sb6.toString().equals(sb7.toString())); // true\n",
    "\n",
    "// substring\n",
    "StringBuilder sb8 = new StringBuilder(\"John Wayne\");\n",
    "String sub = sb8.substring(2,6); // returns String, not StringBuilder\n",
    "System.out.println(\"substring(2,6): \" + sub);\n",
    "System.out.println(\"original unchanged: \" + sb8);\n"
   ]
  },
  {
   "cell_type": "markdown",
   "id": "47de8751",
   "metadata": {},
   "source": [
    "# String Pool — Interview Q&A\n",
    "\n",
    "**Q:** What is the String pool?  \n",
    "**A:** It is a special memory region inside the JVM heap where string literals are stored. If the same literal appears again, it points to the same pooled object instead of creating a new one.  \n",
    "\n",
    "**Q:** What’s the difference between compile-time and runtime concatenation?  \n",
    "**A:** Concatenation of string literals is resolved at compile-time and stored in the pool. Concatenation involving variables or methods happens at runtime, producing new objects unless explicitly interned.  \n",
    "\n",
    "**Q:** What does `intern()` do?  \n",
    "**A:** It forces a string to be added to the pool (if not already) and returns the reference from the pool. Useful to ensure reference equality (`==`) for logically equal strings.  \n",
    "\n",
    "**Q:** How does using `new String(\"text\")` differ from `\"text\"`?  \n",
    "**A:** `\"text\"` refers to the pooled literal, while `new String(\"text\")` always creates a new object on the heap outside the pool.  \n",
    "\n",
    "**Q:** Why does `==` sometimes return `true` and sometimes `false`?  \n",
    "**A:** Because `==` checks references. If both refer to the same pooled object, it’s `true`. Otherwise, it’s `false`, even if contents match.  \n",
    "\n",
    "**Quick takeaways**  \n",
    "- Literals are automatically pooled.  \n",
    "- Compile-time concatenation is pooled; runtime concatenation is not.  \n",
    "- `intern()` ensures reference from the pool.  \n",
    "- `new String(...)` always bypasses the pool.  \n",
    "- Use `equals()` for content comparison.  \n"
   ]
  },
  {
   "cell_type": "code",
   "execution_count": 9,
   "id": "e4b90b7a",
   "metadata": {
    "vscode": {
     "languageId": "java"
    }
   },
   "outputs": [
    {
     "name": "stdout",
     "output_type": "stream",
     "text": [
      "s1 == s2: true\n",
      "s3 == s4: true\n",
      "s1 == s5: false\n",
      "s1 == s6: true\n",
      "s7 == s8: false\n",
      "s7.equals(s8): true\n"
     ]
    }
   ],
   "source": [
    "// Basic string pooling\n",
    "String s1 = \"John\";\n",
    "String s2 = \"John\";\n",
    "System.out.println(\"s1 == s2: \" + (s1 == s2)); // true, same pool reference\n",
    "\n",
    "// Runtime concatenation vs compile-time\n",
    "String s3 = \"John Wayne\";\n",
    "String s4 = \"John\" + \" \" + \"Wayne\"; // compile-time, pooled\n",
    "System.out.println(\"s3 == s4: \" + (s3 == s4)); // true\n",
    "\n",
    "String s5 = \"  John    \".trim(); // runtime, new object\n",
    "System.out.println(\"s1 == s5: \" + (s1 == s5)); // false\n",
    "\n",
    "// Using intern() to point to the pool\n",
    "String s6 = \"  John    \".trim().intern();\n",
    "System.out.println(\"s1 == s6: \" + (s1 == s6)); // true\n",
    "\n",
    "// new String always creates a fresh object\n",
    "String s7 = new String(\"John Wayne\");\n",
    "String s8 = \"John Wayne\";\n",
    "System.out.println(\"s7 == s8: \" + (s7 == s8)); // false\n",
    "System.out.println(\"s7.equals(s8): \" + s7.equals(s8)); // true\n"
   ]
  }
 ],
 "metadata": {
  "kernelspec": {
   "display_name": "Java",
   "language": "java",
   "name": "java"
  },
  "language_info": {
   "codemirror_mode": "java",
   "file_extension": ".jshell",
   "mimetype": "text/x-java-source",
   "name": "Java",
   "pygments_lexer": "java",
   "version": "21.0.8+9-LTS"
  }
 },
 "nbformat": 4,
 "nbformat_minor": 5
}
