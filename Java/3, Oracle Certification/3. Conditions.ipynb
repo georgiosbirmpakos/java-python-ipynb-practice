{
 "cells": [
  {
   "cell_type": "markdown",
   "id": "5dd84456",
   "metadata": {},
   "source": [
    "# If/Else Statement\n",
    "\n",
    "**Q:** What type of expression can an `if` statement evaluate?  \n",
    "**A:** Only a boolean expression. Other types (int, String, etc.) are not allowed unless converted to boolean.\n",
    "\n",
    "**Q:** Are `else if` and `else` blocks mandatory?  \n",
    "**A:** No. An `if` statement may stand alone. `else if` can appear multiple times, and `else` is optional.\n",
    "\n",
    "**Q:** When can braces `{}` be omitted?  \n",
    "**A:** If the block contains exactly one statement, braces can be omitted. However, using braces is recommended for readability and to avoid mistakes.\n",
    "\n",
    "**Q:** How is execution flow determined in `if/else if/else`?  \n",
    "**A:** The first `true` condition’s block executes, and subsequent conditions are skipped.\n",
    "\n",
    "**Q:** What happens if no condition is true and there’s no `else`?  \n",
    "**A:** Nothing executes; control simply moves past the statement.\n",
    "\n",
    "**Quick takeaways**\n",
    "- Condition must evaluate to boolean.  \n",
    "- Only one branch executes (first matching).  \n",
    "- `else if` chains multiple conditions.  \n",
    "- `else` catches “none of the above.”  \n",
    "- Braces optional for single statements, but clarity matters.  \n"
   ]
  },
  {
   "cell_type": "code",
   "execution_count": 2,
   "id": "b3bb9aba",
   "metadata": {
    "vscode": {
     "languageId": "java"
    }
   },
   "outputs": [
    {
     "name": "stdout",
     "output_type": "stream",
     "text": [
      "Result: Case B\n"
     ]
    }
   ],
   "source": [
    "int a = 5, b = 10;\n",
    "String result;\n",
    "\n",
    "// Multiple conditions\n",
    "if (a > 3 && b < 9) {\n",
    "    result = \"Case A\";  // both must be true\n",
    "} else if (a < 3 || a + b <= 15) {\n",
    "    result = \"Case B\";  // only one needs to be true\n",
    "} else if (a == 5) \n",
    "    result = \"Case C\";  // braces omitted (single statement)\n",
    "else {\n",
    "    result = \"Default Case\";\n",
    "}\n",
    "\n",
    "System.out.println(\"Result: \" + result);\n",
    "\n",
    "// Example without else: condition false → nothing happens\n",
    "if (b < 5)\n",
    "    System.out.println(\"This will not print\");"
   ]
  },
  {
   "cell_type": "markdown",
   "id": "883e10a3",
   "metadata": {},
   "source": [
    "# Switch Statement\n",
    "\n",
    "**Q:** Which data types are valid in a `switch` statement?  \n",
    "**A:** `byte`, `short`, `char`, `int` and their wrappers (`Byte`, `Short`, `Character`, `Integer`), `String`, and `enum`. Not allowed: `long`, `float`, `double`, `boolean`.\n",
    "\n",
    "**Q:** What is the purpose of the `break` statement?  \n",
    "**A:** It prevents fall-through by exiting the `switch` after a matching case executes. Without it, execution continues into subsequent cases.\n",
    "\n",
    "**Q:** Is the `default` block mandatory?  \n",
    "**A:** No, but it’s recommended to handle unexpected values. It can appear anywhere in the statement.\n",
    "\n",
    "**Q:** What is fall-through behavior?  \n",
    "**A:** If `break` is omitted, control flows into the next case(s) until a `break` or the end of the switch.\n",
    "\n",
    "**Q:** How can multiple values be handled by the same case?  \n",
    "**A:**  \n",
    "- **Before Java 14:** stack cases vertically (case 0: case 1: …).  \n",
    "- **Since Java 14/17:** combine with commas (case 0,1,2 → …).\n",
    "\n",
    "**Quick takeaways**\n",
    "- Allowed: primitives (except long/float/double/boolean), wrappers, String, enums.  \n",
    "- Use `break` to avoid fall-through.  \n",
    "- `default` optional but best practice.  \n",
    "- Combining cases: old stacked syntax vs modern comma syntax.  \n"
   ]
  },
  {
   "cell_type": "code",
   "execution_count": 3,
   "id": "a97c23aa",
   "metadata": {
    "vscode": {
     "languageId": "java"
    }
   },
   "outputs": [
    {
     "name": "stdout",
     "output_type": "stream",
     "text": [
      "Day: Tuesday\n",
      "Case 1\n",
      "Case 2\n",
      "Value is large\n",
      "Value is large (Java 17 syntax)\n"
     ]
    }
   ],
   "source": [
    "int day = 2;\n",
    "String message;\n",
    "\n",
    "// Classic switch with break\n",
    "switch (day) {\n",
    "    case 0:\n",
    "        message = \"Sunday\";\n",
    "        break;\n",
    "    case 1:\n",
    "        message = \"Monday\";\n",
    "        break;\n",
    "    case 2:\n",
    "        message = \"Tuesday\";\n",
    "        break;\n",
    "    default:\n",
    "        message = \"Unknown\";\n",
    "}\n",
    "System.out.println(\"Day: \" + message);\n",
    "\n",
    "// Demonstrating fall-through (no break)\n",
    "switch (1) {\n",
    "    case 0:\n",
    "        System.out.println(\"Case 0\");\n",
    "    case 1:\n",
    "        System.out.println(\"Case 1\"); // matches → falls through\n",
    "    case 2:\n",
    "        System.out.println(\"Case 2\"); // executes too\n",
    "}\n",
    "\n",
    "// Combining cases\n",
    "int val = 3;\n",
    "\n",
    "// Pre–Java 14 style\n",
    "switch (val) {\n",
    "    case 0: \n",
    "    case 1:\n",
    "    case 2:\n",
    "        System.out.println(\"Value is small\");\n",
    "        break;\n",
    "    default:\n",
    "        System.out.println(\"Value is large\");\n",
    "}\n",
    "\n",
    "// Java 17 style (comma-separated)\n",
    "switch (val) {\n",
    "    case 0, 1, 2:\n",
    "        System.out.println(\"Value is small (Java 17 syntax)\");\n",
    "        break;\n",
    "    default:\n",
    "        System.out.println(\"Value is large (Java 17 syntax)\");\n",
    "}\n"
   ]
  },
  {
   "cell_type": "markdown",
   "id": "b61433df",
   "metadata": {},
   "source": [
    "# Switch Expression (Java 12+ / Java 17 preferred)\n",
    "\n",
    "**Q:** What’s the main improvement of switch expressions compared to statements?  \n",
    "**A:** They can return a value, making `switch` an expression that assigns results directly to variables.\n",
    "\n",
    "**Q:** How is the arrow (`->`) syntax different from the colon (`:`) syntax?  \n",
    "**A:** With `->`, no `break` is required, and each case cleanly maps to an action or value. Colon syntax still allows fall-through.\n",
    "\n",
    "**Q:** When do we use `yield` inside a switch expression?  \n",
    "**A:** Use `yield` in a block (`{ ... }`) when more than one statement is needed before producing a value.\n",
    "\n",
    "**Q:** Why must all cases be handled?  \n",
    "**A:** A switch expression must cover every possible input. Either list all enum values or add a `default` branch, otherwise compilation fails.\n",
    "\n",
    "**Q:** Can switch expressions return different types?  \n",
    "**A:** Yes, but the compiler will infer a common type (widening to `Object` if needed). For clarity, consistent return types are recommended.\n",
    "\n",
    "**Quick takeaways**\n",
    "- `->` syntax is concise, no `break` required.  \n",
    "- `yield` returns a value from a block case.  \n",
    "- Switch expressions must be exhaustive.  \n",
    "- They can be directly assigned to variables.  \n"
   ]
  },
  {
   "cell_type": "code",
   "execution_count": 4,
   "id": "1cb7559b",
   "metadata": {
    "vscode": {
     "languageId": "java"
    }
   },
   "outputs": [
    {
     "name": "stdout",
     "output_type": "stream",
     "text": [
      "Result: Medium\n",
      "Detailed: Medium\n",
      "Enum direction: Down\n"
     ]
    }
   ],
   "source": [
    "int num = 2;\n",
    "\n",
    "// Switch as an expression with arrow syntax\n",
    "String result = switch (num) {\n",
    "    case 0, 1 -> \"Low\";\n",
    "    case 2 -> \"Medium\";\n",
    "    case 3, 4 -> \"High\";\n",
    "    default -> \"Unknown\";\n",
    "};\n",
    "System.out.println(\"Result: \" + result);\n",
    "\n",
    "// Using yield when multiple statements are needed\n",
    "String detailed = switch (num) {\n",
    "    case 0, 1 -> {\n",
    "        String prefix = \"Group A: \";\n",
    "        yield prefix + \"Low\";\n",
    "    }\n",
    "    case 2 -> \"Medium\";\n",
    "    default -> \"Other\";\n",
    "};\n",
    "System.out.println(\"Detailed: \" + detailed);\n",
    "\n",
    "// Exhaustive switch with enum\n",
    "enum Direction {NORTH, SOUTH, EAST, WEST}\n",
    "\n",
    "Direction dir = Direction.SOUTH;\n",
    "String directionMessage = switch (dir) {\n",
    "    case NORTH -> \"Up\";\n",
    "    case SOUTH -> \"Down\";\n",
    "    case EAST  -> \"Right\";\n",
    "    case WEST  -> \"Left\";\n",
    "};\n",
    "System.out.println(\"Enum direction: \" + directionMessage);"
   ]
  },
  {
   "cell_type": "markdown",
   "id": "8b1b3b28",
   "metadata": {},
   "source": [
    "# While Loop\n",
    "\n",
    "**Q:** How does a `while` loop work?  \n",
    "**A:** It repeatedly executes a block while the condition evaluates to `true`. If the condition is `false` initially, the block may never execute.\n",
    "\n",
    "**Q:** How do you create an infinite loop with `while`?  \n",
    "**A:** By using `while (true) { ... }`.\n",
    "\n",
    "**Q:** What’s the difference between `break` and `continue`?  \n",
    "**A:** `break` exits the loop immediately, while `continue` skips the current iteration and goes to the next check.\n",
    "\n",
    "**Q:** What are labels in nested loops?  \n",
    "**A:** Labels let you break/continue a specific outer loop, not just the innermost one.\n",
    "\n",
    "**Q:** What happens if you `return` inside a loop?  \n",
    "**A:** It exits the entire method, not just the loop.\n",
    "\n",
    "---\n",
    "\n",
    "# Do/While Loop\n",
    "\n",
    "**Q:** What is the main difference between `while` and `do/while`?  \n",
    "**A:** `do/while` executes the body **at least once** before checking the condition; `while` may never execute.\n",
    "\n",
    "**Q:** Does `do/while` support the same constructs as `while`?  \n",
    "**A:** Yes, it supports `break`, `continue`, labels, and can also be infinite.\n",
    "\n",
    "---\n",
    "\n",
    "# For Loop\n",
    "\n",
    "**Q:** What is the structure of a `for` loop?  \n",
    "**A:** `for(initialization; condition; update) { ... }`.\n",
    "\n",
    "**Q:** Which parts of a `for` loop are optional?  \n",
    "**A:** All three (init, condition, update) are optional, but the semicolons must remain. `for(;;)` is an infinite loop.\n",
    "\n",
    "**Q:** Can a `for` loop have multiple variables?  \n",
    "**A:** Yes, separated by commas, as long as they are of the same type.\n",
    "\n",
    "**Quick takeaways**\n",
    "- `while`: executes while condition is true.  \n",
    "- `do/while`: executes at least once.  \n",
    "- `for`: combines init, condition, update in one line.  \n",
    "- Infinite loops possible with all three.  \n",
    "- Labels + break/continue add fine-grained control.  \n"
   ]
  },
  {
   "cell_type": "code",
   "execution_count": 5,
   "id": "f0303e9d",
   "metadata": {
    "vscode": {
     "languageId": "java"
    }
   },
   "outputs": [
    {
     "name": "stdout",
     "output_type": "stream",
     "text": [
      "while i=0\n",
      "while i=1\n",
      "while i=2\n",
      "Infinite loop iteration 0\n",
      "Infinite loop iteration 1\n",
      "Odd: 1\n",
      "Odd: 3\n",
      "Odd: 5\n",
      "Pair: (1,1)\n",
      "Pair: (1,2)\n",
      "Pair: (1,3)\n",
      "Pair: (2,1)\n",
      "do/while executes at least once, x=0\n",
      "for j=0\n",
      "for j=1\n",
      "for j=2\n",
      "a=0, b=5\n",
      "a=1, b=4\n",
      "a=2, b=3\n",
      "Infinite for loop\n"
     ]
    }
   ],
   "source": [
    "// WHILE LOOP\n",
    "int i = 0;\n",
    "while (i < 3) {\n",
    "    System.out.println(\"while i=\" + i);\n",
    "    i++;\n",
    "}\n",
    "\n",
    "// Infinite loop with break\n",
    "int count = 0;\n",
    "while (true) {\n",
    "    if (count == 2) break;\n",
    "    System.out.println(\"Infinite loop iteration \" + count);\n",
    "    count++;\n",
    "}\n",
    "\n",
    "// Continue in while\n",
    "int n = 0;\n",
    "while (n < 5) {\n",
    "    n++;\n",
    "    if (n % 2 == 0) continue; // skip even numbers\n",
    "    System.out.println(\"Odd: \" + n);\n",
    "}\n",
    "\n",
    "// Nested loops with labels\n",
    "OUTER: for (int a = 1; a <= 3; a++) {\n",
    "    for (int b = 1; b <= 3; b++) {\n",
    "        if (a == 2 && b == 2) break OUTER;\n",
    "        System.out.println(\"Pair: (\" + a + \",\" + b + \")\");\n",
    "    }\n",
    "}\n",
    "\n",
    "// DO/WHILE LOOP\n",
    "int x = 0;\n",
    "do {\n",
    "    System.out.println(\"do/while executes at least once, x=\" + x);\n",
    "    x++;\n",
    "} while (x < 0); // condition false, but loop already ran once\n",
    "\n",
    "// FOR LOOP\n",
    "for (int j = 0; j < 3; j++) {\n",
    "    System.out.println(\"for j=\" + j);\n",
    "}\n",
    "\n",
    "// For loop with multiple variables\n",
    "for (int a = 0, b = 5; a < b; a++, b--) {\n",
    "    System.out.println(\"a=\" + a + \", b=\" + b);\n",
    "}\n",
    "\n",
    "// Infinite for loop (runs once due to break)\n",
    "for (;;) {\n",
    "    System.out.println(\"Infinite for loop\");\n",
    "    break;\n",
    "}\n"
   ]
  },
  {
   "cell_type": "markdown",
   "id": "c0acdefd",
   "metadata": {},
   "source": [
    "# For-Each Loop\n",
    "\n",
    "**Q:** What is the purpose of the for-each loop?  \n",
    "**A:** It provides a concise way to iterate over arrays and collections without using an index.\n",
    "\n",
    "**Q:** How does the for-each loop differ from the traditional `for` loop?  \n",
    "**A:** A traditional `for` uses an index variable (`for (int i=0; i<array.length; i++)`). A for-each loop directly iterates elements (`for (Type element : array)`).\n",
    "\n",
    "**Q:** What are the advantages of for-each?  \n",
    "**A:** Cleaner syntax, fewer errors (like off-by-one), and no manual index management.\n",
    "\n",
    "**Q:** When should you avoid using for-each?  \n",
    "**A:** When you need the index (e.g., modifying elements in place, iterating in reverse, skipping elements by index).\n",
    "\n",
    "**Q:** How does Java 10+ improve for-each loops?  \n",
    "**A:** With Local Variable Type Inference (LVTI), you can use `var` instead of explicitly writing the type.\n",
    "\n",
    "**Quick takeaways**\n",
    "- For-each simplifies iteration.  \n",
    "- Best for read-only traversal.  \n",
    "- Use traditional for loop when index manipulation is needed.  \n",
    "- Java 10+ allows `var` in enhanced for-loops.  "
   ]
  },
  {
   "cell_type": "code",
   "execution_count": 8,
   "id": "283a70f3",
   "metadata": {
    "vscode": {
     "languageId": "java"
    }
   },
   "outputs": [
    {
     "name": "stdout",
     "output_type": "stream",
     "text": [
      "Car: Ford\n",
      "Car: Renault\n",
      "Car: Fiat\n",
      "Car: Kia\n",
      "Number: 10\n",
      "Number: 20\n",
      "Number: 30\n",
      "Using var: Ford\n",
      "Using var: Renault\n",
      "Using var: Fiat\n",
      "Using var: Kia\n"
     ]
    }
   ],
   "source": [
    "// Iterating over an array with for-each\n",
    "String[] cars = {\"Ford\", \"Renault\", \"Fiat\", \"Kia\"};\n",
    "for (String car : cars) {\n",
    "    System.out.println(\"Car: \" + car);\n",
    "}\n",
    "\n",
    "// Iterating over a List with for-each\n",
    "import java.util.List;\n",
    "List<Integer> numbers = List.of(10, 20, 30);\n",
    "for (Integer num : numbers) {\n",
    "    System.out.println(\"Number: \" + num);\n",
    "}\n",
    "\n",
    "// Using LVTI (Java 10+)\n",
    "for (var car : cars) {\n",
    "    System.out.println(\"Using var: \" + car);\n",
    "}\n"
   ]
  }
 ],
 "metadata": {
  "kernelspec": {
   "display_name": "Java",
   "language": "java",
   "name": "java"
  },
  "language_info": {
   "codemirror_mode": "java",
   "file_extension": ".jshell",
   "mimetype": "text/x-java-source",
   "name": "Java",
   "pygments_lexer": "java",
   "version": "21.0.8+9-LTS"
  }
 },
 "nbformat": 4,
 "nbformat_minor": 5
}
