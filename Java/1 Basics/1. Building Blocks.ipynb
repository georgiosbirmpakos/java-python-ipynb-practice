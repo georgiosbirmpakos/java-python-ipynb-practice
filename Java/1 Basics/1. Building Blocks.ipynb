{
 "cells": [
  {
   "cell_type": "markdown",
   "id": "8281b60c",
   "metadata": {},
   "source": [
    "# The Environment: JDK vs JRE and Core Tools (javac, java, jar, javadoc)\n",
    "\n",
    "**Q:** What’s the difference between the JDK and the JRE?  \n",
    "**A:** The **JDK** (Java Development Kit) includes everything in the **JRE** plus developer tools (compiler, javadoc, jar, etc.). The **JRE** (runtime) is just what’s needed to run Java apps (JVM + standard libraries), not build them.\n",
    "\n",
    "**Q:** When do I use `javac` vs `java`?  \n",
    "**A:** Use `javac` to **compile** `.java` source to `.class` bytecode. Use `java` to **launch** bytecode (class or module) on the JVM.\n",
    "\n",
    "**Q:** What does `jar` do, and why would I use it?  \n",
    "**A:** `jar` packages compiled classes and resources into a single archive (optionally with a `Main-Class` in `MANIFEST.MF`) so you can run it with `java -jar app.jar` and distribute it easily.\n",
    "\n",
    "**Q:** What is `javadoc` used for?  \n",
    "**A:** `javadoc` generates HTML documentation from your source’s Javadoc comments (`/** ... */`) including tags like `@param`, `@return`, and `@since`.\n",
    "\n",
    "**Q:** How can I check which Java I’m running?  \n",
    "**A:** Run `java -version` on the CLI, or in code read `System.getProperty(\"java.version\")` (or `Runtime.version()`).\n",
    "\n",
    "**Quick takeaways**\n",
    "- JDK = JRE + dev tools (compiler, docs, packager).  \n",
    "- `javac` compiles, `java` runs, `jar` packages, `javadoc` documents.  \n",
    "- A runnable JAR needs a `Main-Class` in its manifest.  \n",
    "- Use code or CLI to confirm Java version and vendor.  \n"
   ]
  },
  {
   "cell_type": "code",
   "execution_count": 5,
   "id": "92d35028",
   "metadata": {
    "vscode": {
     "languageId": "java"
    }
   },
   "outputs": [
    {
     "name": "stdout",
     "output_type": "stream",
     "text": [
      "Java version: 21.0.8\n",
      "Vendor: Eclipse Adoptium\n",
      "Runtime: OpenJDK Runtime Environment\n",
      "2 + 3 = 5\n"
     ]
    }
   ],
   "source": [
    "// Runtime environment inspection\n",
    "System.out.println(\"Java version: \" + System.getProperty(\"java.version\"));\n",
    "System.out.println(\"Vendor: \" + System.getProperty(\"java.vendor\"));\n",
    "System.out.println(\"Runtime: \" + System.getProperty(\"java.runtime.name\"));\n",
    "\n",
    "// Example of Javadoc comment (visible with javadoc tool)\n",
    "/**\n",
    " * Utility class for environment demo.\n",
    " */\n",
    "class EnvUtil {\n",
    "    /**\n",
    "     * Adds two integers.\n",
    "     * @param a first number\n",
    "     * @param b second number\n",
    "     * @return sum of a and b\n",
    "     */\n",
    "    public static int add(int a, int b) {\n",
    "        return a + b;\n",
    "    }\n",
    "}\n",
    "\n",
    "System.out.println(\"2 + 3 = \" + EnvUtil.add(2,3));"
   ]
  },
  {
   "cell_type": "markdown",
   "id": "2d03fa5f",
   "metadata": {},
   "source": [
    "# Class Structure: Classes, Fields, Methods, Comments, and Filename Rules\n",
    "\n",
    "**Q:** What is the basic structure of a Java class?  \n",
    "**A:** A class typically contains fields (state/variables), methods (behavior), constructors, and optional nested types. It can also include comments, initializer blocks, and modifiers (public, private, etc.).\n",
    "\n",
    "**Q:** How many top-level public classes can a `.java` file have?  \n",
    "**A:** Only **one** top-level public class is allowed per source file, and the filename must exactly match that class name (case-sensitive).\n",
    "\n",
    "**Q:** What kinds of comments are supported in Java?  \n",
    "**A:** Java supports single-line (`//`), multi-line (`/* ... */`), and Javadoc (`/** ... */`) comments.\n",
    "\n",
    "**Q:** What is the difference between fields and local variables?  \n",
    "**A:** Fields are declared inside a class but outside methods/constructors, while local variables are declared within a method or block and only exist during that execution.\n",
    "\n",
    "**Q:** Can a `.java` file have multiple classes?  \n",
    "**A:** Yes, but only one of them can be `public`. Others will have package-private (default) visibility if no modifier is used.\n",
    "\n",
    "**Quick takeaways**\n",
    "- Class structure = package → imports → class declaration → fields → methods.  \n",
    "- Filename must match the single public class.  \n",
    "- Three comment styles: //, /* */, /** */.  \n",
    "- Fields define state; methods define behavior.  \n"
   ]
  },
  {
   "cell_type": "code",
   "execution_count": 6,
   "id": "b2b71962",
   "metadata": {
    "vscode": {
     "languageId": "java"
    }
   },
   "outputs": [
    {
     "name": "stdout",
     "output_type": "stream",
     "text": [
      "Hello, my name is Alice\n",
      "WHISPER\n"
     ]
    }
   ],
   "source": [
    "// Example showing class, field, method, and comments\n",
    "\n",
    "// Single-line comment\n",
    "/* Multi-line\n",
    "   comment block */\n",
    "/**\n",
    " * Represents a simple user with a name.\n",
    " */\n",
    "public class User {\n",
    "    // Field (state)\n",
    "    private String name;\n",
    "\n",
    "    // Constructor\n",
    "    public User(String name) {\n",
    "        this.name = name;\n",
    "    }\n",
    "\n",
    "    // Method (behavior)\n",
    "    public void greet() {\n",
    "        System.out.println(\"Hello, my name is \" + name);\n",
    "    }\n",
    "}\n",
    "\n",
    "// Demonstrating usage directly in notebook (no main needed)\n",
    "User u = new User(\"Alice\");\n",
    "u.greet();\n",
    "\n",
    "// Non-public class in same file is allowed\n",
    "class Helper {\n",
    "    static String shout(String text) {\n",
    "        return text.toUpperCase();\n",
    "    }\n",
    "}\n",
    "System.out.println(Helper.shout(\"whisper\"));"
   ]
  },
  {
   "cell_type": "markdown",
   "id": "6bfe333e",
   "metadata": {},
   "source": [
    "# The main() Method: Valid Signatures, Args, and static/final Nuances\n",
    "\n",
    "**Q:** What is the standard signature of the `main` method?  \n",
    "**A:** `public static void main(String[] args)` — it must be `public`, `static`, return `void`, and accept a single parameter of type `String[]`.\n",
    "\n",
    "**Q:** Are there alternative valid signatures for `main`?  \n",
    "**A:** Yes, the parameter can be `String... args` (varargs). The modifiers `final`, `synchronized`, or `strictfp` are also allowed. Order of `public` and `static` can be swapped.\n",
    "\n",
    "**Q:** Why does `main` need to be `static`?  \n",
    "**A:** Because the JVM invokes `main` without creating an object of the class.\n",
    "\n",
    "**Q:** What happens if `main` is missing or has the wrong signature?  \n",
    "**A:** The program compiles but fails at runtime with `java.lang.NoSuchMethodError: main`.\n",
    "\n",
    "**Q:** Can you overload `main`?  \n",
    "**A:** Yes, but the JVM only looks for the exact signature. Other overloads won’t be entry points unless called manually.\n",
    "\n",
    "**Quick takeaways**\n",
    "- Standard: `public static void main(String[] args)`.  \n",
    "- Allowed variations: varargs, extra modifiers, order changes.  \n",
    "- JVM won’t run if the correct signature is missing.  \n",
    "- Overloading is possible but not entry-point relevant.  \n"
   ]
  },
  {
   "cell_type": "code",
   "execution_count": 28,
   "id": "fa63effe",
   "metadata": {
    "vscode": {
     "languageId": "java"
    }
   },
   "outputs": [
    {
     "name": "stdout",
     "output_type": "stream",
     "text": [
      "[StandardEntry] args = [one, two]\n",
      "[VarargsEntry] args count = 3\n",
      "[ExtraModsEntry] extra modifiers accepted.\n",
      "42\n",
      "[a, b, c]\n"
     ]
    }
   ],
   "source": [
    "// Three separate demo classes, each with a single valid main variant.\n",
    "// We call them manually so there’s no ambiguity in this single notebook cell.\n",
    "\n",
    "import java.util.Arrays;\n",
    "\n",
    "class StandardEntry {\n",
    "    public static void main(String[] args) {\n",
    "        System.out.println(\"[StandardEntry] args = \" + Arrays.toString(args));\n",
    "    }\n",
    "}\n",
    "\n",
    "class VarargsEntry {\n",
    "    // Varargs is the same signature as String[], also valid as an entry point.\n",
    "    public static void main(String... args) {\n",
    "        System.out.println(\"[VarargsEntry] args count = \" + args.length);\n",
    "    }\n",
    "}\n",
    "\n",
    "class ExtraModsEntry {\n",
    "    // Extra modifiers are allowed; order can vary (e.g., static public final ...).\n",
    "    public static final synchronized strictfp void main(String[] args) {\n",
    "        System.out.println(\"[ExtraModsEntry] extra modifiers accepted.\");\n",
    "    }\n",
    "}\n",
    "\n",
    "// Manual invocations (since we’re in a Java kernel, no separate launcher is needed)\n",
    "StandardEntry.main(new String[]{\"one\",\"two\"});\n",
    "VarargsEntry.main(\"alpha\",\"beta\",\"gamma\");\n",
    "ExtraModsEntry.main(new String[0]);\n",
    "\n",
    "// Overloaded main is fine but NOT an entry point for the JVM:\n",
    "class OverloadedMainDemo {\n",
    "    public static void main(String[] args) { System.out.println(Arrays.toString(args)); }\n",
    "    public static void main(int n)         { System.out.println(n); }\n",
    "}\n",
    "OverloadedMainDemo.main(42);  \n",
    "OverloadedMainDemo.main(new String[]{\"a\", \"b\", \"c\"});  \n"
   ]
  },
  {
   "cell_type": "markdown",
   "id": "f006bd2e",
   "metadata": {},
   "source": [
    "# Compile / Run / Archive: javac, classpath, -d, jars, wildcards\n",
    "\n",
    "**Q:** What does `javac` do, and what does the `-d` flag mean?  \n",
    "**A:** `javac` compiles `.java` source into `.class` files. The `-d` option specifies the destination directory for compiled classes (important when using packages).\n",
    "\n",
    "**Q:** How does the `java` command know where to find classes?  \n",
    "**A:** Through the **classpath**. By default, it’s the current directory. You can override it with `-cp` (or `CLASSPATH` env variable).\n",
    "\n",
    "**Q:** What is a JAR file and how do you run one?  \n",
    "**A:** A JAR (Java ARchive) bundles `.class` files and resources. If it has a manifest with `Main-Class`, you can run it via `java -jar app.jar`.\n",
    "\n",
    "**Q:** What does the `jar` tool support besides packaging?  \n",
    "**A:** It can create (`c`), update (`u`), list (`t`), or extract (`x`) JAR contents.\n",
    "\n",
    "**Q:** How are wildcards used in classpath?  \n",
    "**A:** `java -cp \"lib/*\" Main` includes all JARs inside the `lib` folder automatically.\n",
    "\n",
    "**Quick takeaways**\n",
    "- `javac -d out src/MyApp.java` → compiles into `out` preserving package structure.  \n",
    "- `java -cp out MyApp` runs from compiled folder.  \n",
    "- JAR = compressed archive of classes/resources, runnable with manifest.  \n",
    "- Wildcards simplify including multiple JARs on the classpath.  \n"
   ]
  },
  {
   "cell_type": "markdown",
   "id": "8dfa8597",
   "metadata": {},
   "source": [
    "# Objects, Constructors, Initializer Blocks, and Initialization Order\n",
    "\n",
    "**Q:** What are constructors in Java?  \n",
    "**A:** Special methods with the same name as the class, used to initialize new objects. They don’t have a return type.\n",
    "\n",
    "**Q:** What are initializer blocks?  \n",
    "**A:** Blocks of code inside a class that run when an object (instance initializer) or the class (static initializer) is loaded/created. They execute before the constructor.\n",
    "\n",
    "**Q:** In what order does initialization occur?  \n",
    "**A:** For an object:  \n",
    "1. Static fields and static initializers (run once, when class loads).  \n",
    "2. Instance fields and instance initializers (run each time an object is created).  \n",
    "3. Constructor body.\n",
    "\n",
    "**Q:** Can a class have multiple constructors?  \n",
    "**A:** Yes, constructors can be overloaded with different parameter lists. They can call each other using `this(...)`.\n",
    "\n",
    "**Q:** Why use initializer blocks if we have constructors?  \n",
    "**A:** They are useful for common initialization code across all constructors or for static setup when no constructor is available.\n",
    "\n",
    "**Quick takeaways**\n",
    "- Constructors set up new objects.  \n",
    "- Initializer blocks allow pre-constructor logic.  \n",
    "- Order: static → instance → constructor.  \n",
    "- Overloaded constructors must differ by parameter list.  \n"
   ]
  },
  {
   "cell_type": "code",
   "execution_count": null,
   "id": "80a61ee6",
   "metadata": {
    "vscode": {
     "languageId": "java"
    }
   },
   "outputs": [
    {
     "name": "stdout",
     "output_type": "stream",
     "text": [
      "Static initializer: staticValue = 1\n",
      "Instance initializer: setting up object\n",
      "Constructor: overriding name\n",
      "Final name in obj1 = First\n",
      "Instance initializer: setting up object\n",
      "Constructor: overriding name\n",
      "Final name in obj2 = Second\n"
     ]
    }
   ],
   "source": [
    "class InitOrderDemo {\n",
    "\n",
    "    // Instance field\n",
    "    private String name = \"Default\";\n",
    " \n",
    "    // Constructor\n",
    "    public InitOrderDemo(String name) {\n",
    "        System.out.println(\"Constructor: overriding name\");\n",
    "        this.name = name;\n",
    "    }\n",
    "\n",
    "    // Static field\n",
    "    static int staticValue = 1;\n",
    "\n",
    "    // Instance initializer block\n",
    "    {\n",
    "        System.out.println(\"Instance initializer: setting up object\");\n",
    "        name = \"Set in initializer\";\n",
    "    }\n",
    "\n",
    "    // Static initializer block\n",
    "    static {\n",
    "        System.out.println(\"Static initializer: staticValue = \" + staticValue);\n",
    "        staticValue = 2;\n",
    "    }\n",
    "\n",
    "    public String getName() {\n",
    "        return name;\n",
    "    }\n",
    "}\n",
    "\n",
    "// Create two objects to see init order\n",
    "InitOrderDemo obj1 = new InitOrderDemo(\"First\");\n",
    "System.out.println(\"Final name in obj1 = \" + obj1.getName());\n",
    "\n",
    "InitOrderDemo obj2 = new InitOrderDemo(\"Second\");\n",
    "System.out.println(\"Final name in obj2 = \" + obj2.getName());\n"
   ]
  },
  {
   "cell_type": "markdown",
   "id": "1f755a1f",
   "metadata": {},
   "source": [
    "# Data Types: Primitives, Literals, Underscores, Wrappers\n",
    "\n",
    "**Q:** How many primitive data types exist in Java?  \n",
    "**A:** Eight: `byte`, `short`, `int`, `long`, `float`, `double`, `char`, and `boolean`.\n",
    "\n",
    "**Q:** What number literal formats does Java support?  \n",
    "**A:** Decimal (default), binary (`0b1010`), octal (`012`), and hexadecimal (`0x1F`). Since Java 7, underscores can improve readability (`1_000_000`).\n",
    "\n",
    "**Q:** What are wrapper classes?  \n",
    "**A:** Each primitive has a corresponding wrapper object: `Byte`, `Short`, `Integer`, `Long`, `Float`, `Double`, `Character`, `Boolean`. They allow primitives to be used as objects (e.g., generics, collections).\n",
    "\n",
    "**Q:** How does autoboxing/unboxing work?  \n",
    "**A:** Java automatically converts between primitives and wrappers. Example: `Integer x = 5; int y = x;`.\n",
    "\n",
    "**Q:** Can underscores be placed anywhere in a literal?  \n",
    "**A:** They cannot be at the start/end of the literal or adjacent to the decimal point in floating numbers.  \n",
    "\n",
    "**Quick takeaways**\n",
    "- 8 primitives cover numbers, characters, and boolean.  \n",
    "- Literals: binary, octal, hex, decimal, with optional underscores.  \n",
    "- Wrappers = object versions of primitives; support autoboxing/unboxing.  \n",
    "- Useful for collections and generics.  \n"
   ]
  },
  {
   "cell_type": "code",
   "execution_count": 33,
   "id": "c38457ee",
   "metadata": {
    "vscode": {
     "languageId": "java"
    }
   },
   "outputs": [
    {
     "name": "stdout",
     "output_type": "stream",
     "text": [
      "Decimal 42      = 42\n",
      "Binary 0b101010 = 42\n",
      "Octal 052       = 42\n",
      "Hex 0x2A        = 42\n",
      "Million         = 1000000\n",
      "Wrapped (Integer) = 42\n",
      "Unwrapped (int)   = 42\n",
      "Max int value: 2147483647\n",
      "Parse string '123' to int: 123\n"
     ]
    }
   ],
   "source": [
    "// Primitive declarations with different literal formats\n",
    "int dec = 42;            // decimal\n",
    "int bin = 0b101010;      // binary\n",
    "int oct = 052;           // octal\n",
    "int hex = 0x2A;          // hexadecimal\n",
    "int million = 1_000_000; // underscores for readability\n",
    "\n",
    "System.out.println(\"Decimal 42      = \" + dec);\n",
    "System.out.println(\"Binary 0b101010 = \" + bin);\n",
    "System.out.println(\"Octal 052       = \" + oct);\n",
    "System.out.println(\"Hex 0x2A        = \" + hex);\n",
    "System.out.println(\"Million         = \" + million);\n",
    "\n",
    "// Wrappers and autoboxing/unboxing\n",
    "Integer wrapped = dec;   // autoboxing\n",
    "int unwrapped = wrapped; // unboxing\n",
    "System.out.println(\"Wrapped (Integer) = \" + wrapped);\n",
    "System.out.println(\"Unwrapped (int)   = \" + unwrapped);\n",
    "\n",
    "// Wrapper utilities\n",
    "System.out.println(\"Max int value: \" + Integer.MAX_VALUE);\n",
    "System.out.println(\"Parse string '123' to int: \" + Integer.parseInt(\"123\"));"
   ]
  },
  {
   "cell_type": "markdown",
   "id": "0f3674dd",
   "metadata": {},
   "source": [
    "# Strings & Text Blocks (Java 15+)\n",
    "\n",
    "**Q:** Are Strings in Java mutable?  \n",
    "**A:** No. Strings are immutable objects. Any operation that modifies a `String` (e.g., concatenation) creates a new object.\n",
    "\n",
    "**Q:** How are `StringBuilder` and `StringBuffer` different from `String`?  \n",
    "**A:** Both are mutable. `StringBuilder` is faster (not synchronized), while `StringBuffer` is thread-safe (synchronized).\n",
    "\n",
    "**Q:** What are Text Blocks (Java 15+)?  \n",
    "**A:** A new multiline `String` literal format, written with `\"\"\" ... \"\"\"`. They improve readability for HTML, JSON, SQL, etc.\n",
    "\n",
    "**Q:** How are indentation and line breaks handled in Text Blocks?  \n",
    "**A:** Leading indentation is stripped automatically to match the closing `\"\"\"`. Newlines inside a text block are preserved unless escaped with `\\`.\n",
    "\n",
    "**Q:** What are some useful `String` methods?  \n",
    "**A:** `length()`, `substring()`, `charAt()`, `equals()`, `equalsIgnoreCase()`, `trim()`, `replace()`, `split()`, `join()`, etc.\n",
    "\n",
    "**Quick takeaways**\n",
    "- `String` is immutable; use `StringBuilder`/`StringBuffer` for mutability.  \n",
    "- Text Blocks (`\"\"\"`) improve readability for multiline strings.  \n",
    "- Indentation and escape rules matter in Text Blocks.  \n",
    "- Rich `String` API for manipulation.  \n"
   ]
  },
  {
   "cell_type": "code",
   "execution_count": 34,
   "id": "99a031c6",
   "metadata": {
    "vscode": {
     "languageId": "java"
    }
   },
   "outputs": [
    {
     "name": "stdout",
     "output_type": "stream",
     "text": [
      "s1 = Hello\n",
      "s2 = Hello World\n",
      "StringBuilder result = Start -> Middle -> End\n",
      "JSON text block:\n",
      "{\n",
      "    \"user\": \"Alice\",\n",
      "    \"active\": true,\n",
      "    \"roles\": [\"admin\", \"editor\"]\n",
      "}\n",
      "\n",
      "SQL text block (escaped newlines):\n",
      "SELECT id, name FROM users WHERE active = 1\n",
      "\n"
     ]
    }
   ],
   "source": [
    "// Immutable Strings\n",
    "String s1 = \"Hello\";\n",
    "String s2 = s1.concat(\" World\");  // creates new object\n",
    "System.out.println(\"s1 = \" + s1);\n",
    "System.out.println(\"s2 = \" + s2);\n",
    "\n",
    "// Mutable StringBuilder\n",
    "StringBuilder sb = new StringBuilder(\"Start\");\n",
    "sb.append(\" -> Middle\").append(\" -> End\");\n",
    "System.out.println(\"StringBuilder result = \" + sb);\n",
    "\n",
    "// Text Block (Java 15+)\n",
    "String json = \"\"\"\n",
    "    {\n",
    "        \"user\": \"Alice\",\n",
    "        \"active\": true,\n",
    "        \"roles\": [\"admin\", \"editor\"]\n",
    "    }\n",
    "    \"\"\";\n",
    "System.out.println(\"JSON text block:\");\n",
    "System.out.println(json);\n",
    "\n",
    "// Escape newline in text block\n",
    "String sql = \"\"\"\n",
    "    SELECT id, name \\\n",
    "    FROM users \\\n",
    "    WHERE active = 1\n",
    "    \"\"\";\n",
    "System.out.println(\"SQL text block (escaped newlines):\");\n",
    "System.out.println(sql);\n"
   ]
  },
  {
   "cell_type": "markdown",
   "id": "34b69c1b",
   "metadata": {},
   "source": [
    "# Variables: Kinds, Scope, final, Naming Rules & Conventions\n",
    "\n",
    "**Q:** What kinds of variables exist in Java?  \n",
    "**A:**  \n",
    "- **Instance variables (fields):** Belong to an object, each instance has its own copy.  \n",
    "- **Static variables:** Shared across all instances of the class.  \n",
    "- **Local variables:** Declared inside methods/blocks, exist only during execution.  \n",
    "- **Parameters:** Variables passed into methods/constructors.\n",
    "\n",
    "**Q:** What are the rules for variable naming?  \n",
    "**A:** Names must begin with a letter, `_`, or `$`. Subsequent characters can include digits. They cannot be reserved keywords.\n",
    "\n",
    "**Q:** What are naming conventions?  \n",
    "**A:** By convention:  \n",
    "- Variables and methods → `camelCase` (e.g., `studentName`).  \n",
    "- Constants (`final static`) → `UPPER_CASE_WITH_UNDERSCORES`.  \n",
    "- Class names → `PascalCase`.\n",
    "\n",
    "**Q:** What does `final` mean for variables?  \n",
    "**A:** A `final` variable can be assigned only once. For objects, the reference cannot change, but the object itself may still be mutable.\n",
    "\n",
    "**Q:** What is variable scope in Java?  \n",
    "**A:** Scope defines where a variable is accessible:  \n",
    "- Local variables → inside the block they are declared.  \n",
    "- Instance variables → inside the object.  \n",
    "- Static variables → across the class.  \n",
    "\n",
    "**Quick takeaways**  \n",
    "- 4 main kinds: instance, static, local, parameter.  \n",
    "- Rules vs conventions: compiler enforces rules; style guides enforce conventions.  \n",
    "- `final` makes a variable constant (for primitives) or reference-constant (for objects).  \n",
    "- Scope controls variable lifetime and visibility.  \n"
   ]
  },
  {
   "cell_type": "code",
   "execution_count": 35,
   "id": "66d15452",
   "metadata": {
    "vscode": {
     "languageId": "java"
    }
   },
   "outputs": [
    {
     "name": "stdout",
     "output_type": "stream",
     "text": [
      "Hello, my name is Alice\n",
      "Hello, my name is Bob\n",
      "Objects created (counter) = 2\n",
      "Value of PI = 3.14159\n"
     ]
    }
   ],
   "source": [
    "class VariableDemo {\n",
    "    // Static variable (class-level)\n",
    "    static int counter = 0;\n",
    "\n",
    "    // Instance variable (each object has its own copy)\n",
    "    private String name;\n",
    "\n",
    "    // Constant (naming convention: UPPER_CASE)\n",
    "    public static final double PI = 3.14159;\n",
    "\n",
    "    // Constructor with parameter\n",
    "    public VariableDemo(String name) {\n",
    "        this.name = name;\n",
    "        counter++;\n",
    "    }\n",
    "\n",
    "    public void printInfo() {\n",
    "        // Local variable (scope limited to this method)\n",
    "        final String greeting = \"Hello\";\n",
    "        System.out.println(greeting + \", my name is \" + name);\n",
    "    }\n",
    "}\n",
    "\n",
    "// Create two objects\n",
    "VariableDemo v1 = new VariableDemo(\"Alice\");\n",
    "VariableDemo v2 = new VariableDemo(\"Bob\");\n",
    "\n",
    "v1.printInfo();\n",
    "v2.printInfo();\n",
    "\n",
    "// Static variable shared across objects\n",
    "System.out.println(\"Objects created (counter) = \" + VariableDemo.counter);\n",
    "\n",
    "// Constant usage\n",
    "System.out.println(\"Value of PI = \" + VariableDemo.PI);\n"
   ]
  },
  {
   "cell_type": "markdown",
   "id": "af7fadcd",
   "metadata": {},
   "source": [
    "# Local Variable Type Inference (LVTI - `var`): Rules and Pitfalls\n",
    "\n",
    "**Q:** What is `var` in Java?  \n",
    "**A:** Since Java 10, `var` allows the compiler to infer the type of a local variable from the initializer expression. It is **not** a keyword but a reserved type name.\n",
    "\n",
    "**Q:** Where can `var` be used?  \n",
    "**A:** Only for **local variables** with initializers, in enhanced for-loops, and try-with-resources. It cannot be used for fields, method parameters, or return types.\n",
    "\n",
    "**Q:** Why must `var` variables be initialized immediately?  \n",
    "**A:** Because the compiler needs the initializer expression to infer the type. `var x;` without initialization is a compile error.\n",
    "\n",
    "**Q:** What are common pitfalls with `var`?  \n",
    "**A:**  \n",
    "- Type may not be what you expect (e.g., `var list = List.of(1,2);` → `List<Integer>` but immutable).  \n",
    "- Using `null` alone as initializer fails (`var x = null;` is invalid).  \n",
    "- Reduces readability if the inferred type is unclear.  \n",
    "\n",
    "**Q:** Does `var` mean dynamic typing like in Python?  \n",
    "**A:** No. Java remains statically typed. Once inferred, the type is fixed at compile time.\n",
    "\n",
    "**Quick takeaways**  \n",
    "- `var` = local variable type inference.  \n",
    "- Requires an initializer.  \n",
    "- Not for fields, parameters, or return types.  \n",
    "- Improves brevity, but can hurt readability if misused.  \n"
   ]
  },
  {
   "cell_type": "code",
   "execution_count": 36,
   "id": "f28f038b",
   "metadata": {
    "vscode": {
     "languageId": "java"
    }
   },
   "outputs": [
    {
     "name": "stdout",
     "output_type": "stream",
     "text": [
      "A B C \n",
      "one two \n"
     ]
    }
   ],
   "source": [
    "import java.util.*;\n",
    "\n",
    "class LVTIExample {}\n",
    "\n",
    "// Valid usage\n",
    "var number = 42;                  // inferred as int\n",
    "var text = \"Hello LVTI\";          // inferred as String\n",
    "var list = List.of(\"A\",\"B\",\"C\");  // inferred as List<String>\n",
    "\n",
    "// Works in for-each loops\n",
    "for (var item : list) {\n",
    "    System.out.print(item + \" \");\n",
    "}\n",
    "System.out.println();\n",
    "\n",
    "// Works in try-with-resources\n",
    "try (var scanner = new java.util.Scanner(\"one two\")) {\n",
    "    while (scanner.hasNext()) {\n",
    "        System.out.print(scanner.next() + \" \");\n",
    "    }\n",
    "}\n",
    "System.out.println();\n",
    "\n",
    "// Pitfalls (would not compile if uncommented):\n",
    "// var x;              // ❌ no initializer\n",
    "// var y = null;       // ❌ cannot infer type from null\n",
    "// public var field;   // ❌ not allowed for fields\n"
   ]
  },
  {
   "cell_type": "markdown",
   "id": "6f9ba21d",
   "metadata": {},
   "source": [
    "# Garbage Collection: Basics & Eligibility\n",
    "\n",
    "**Q:** What is Garbage Collection (GC) in Java?  \n",
    "**A:** An automatic process that reclaims memory by removing objects that are no longer reachable from any live thread or static reference.\n",
    "\n",
    "**Q:** How does the JVM determine if an object is eligible for GC?  \n",
    "**A:** If no live references can reach the object (directly or indirectly), it becomes eligible for GC.\n",
    "\n",
    "**Q:** When does garbage collection occur?  \n",
    "**A:** The JVM decides when to run GC, usually when memory is low. Developers can *suggest* GC with `System.gc()`, but it’s not guaranteed.\n",
    "\n",
    "**Q:** Can objects become eligible for GC even if references exist?  \n",
    "**A:** Yes, if references are reassigned or set to `null`, the old object may become unreachable.\n",
    "\n",
    "**Q:** What is the difference between `finalize()` and GC?  \n",
    "**A:** `finalize()` was a method that could run before an object was collected, but it’s deprecated in modern Java due to unpredictability. GC is the actual memory cleanup process.\n",
    "\n",
    "**Quick takeaways**  \n",
    "- GC reclaims unreachable objects automatically.  \n",
    "- Eligibility = no reachable references.  \n",
    "- `System.gc()` is just a request, not a command.  \n",
    "- `finalize()` is obsolete and should not be relied on.  \n"
   ]
  }
 ],
 "metadata": {
  "kernelspec": {
   "display_name": "Java",
   "language": "java",
   "name": "java"
  },
  "language_info": {
   "codemirror_mode": "java",
   "file_extension": ".jshell",
   "mimetype": "text/x-java-source",
   "name": "Java",
   "pygments_lexer": "java",
   "version": "21.0.8+9-LTS"
  }
 },
 "nbformat": 4,
 "nbformat_minor": 5
}
