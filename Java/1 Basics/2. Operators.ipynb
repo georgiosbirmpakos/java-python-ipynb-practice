{
 "cells": [
  {
   "cell_type": "markdown",
   "id": "0be6a943",
   "metadata": {},
   "source": [
    "# Operators & Precedence\n",
    "\n",
    "**Q:** What are the three categories of operators in Java?  \n",
    "**A:** Unary (one operand, e.g. `++a`, `!b`), Binary (two operands, e.g. `a + b`), and Ternary (three operands, `condition ? value1 : value2`).\n",
    "\n",
    "**Q:** Why is operator precedence important?  \n",
    "**A:** It defines the order in which expressions are evaluated. For example, multiplication/division have higher precedence than addition/subtraction: `2 + 3 * 4` evaluates to 14, not 20.\n",
    "\n",
    "**Q:** How are pre-increment and post-increment different?  \n",
    "**A:** `++a` increments first, then returns the new value. `a++` returns the current value, then increments.\n",
    "\n",
    "**Q:** How are logical `&&` and `&` different?  \n",
    "**A:** `&&` is conditional AND with short-circuiting (right side not evaluated if left is false). `&` always evaluates both operands, even if the first is false.\n",
    "\n",
    "**Q:** What is the associativity of the assignment operator?  \n",
    "**A:** Right-to-left. So `a = b = 5;` assigns 5 to `b`, then assigns that result to `a`.\n",
    "\n",
    "**Quick takeaways**\n",
    "- Use parentheses to make precedence explicit and code more readable.  \n",
    "- Unary: ++, --, !, ~, cast.  \n",
    "- Binary: arithmetic, relational, logical.  \n",
    "- Ternary is the only three-operand operator.  \n",
    "- Assignments evaluate right-to-left and return a value.  \n"
   ]
  },
  {
   "cell_type": "code",
   "execution_count": 1,
   "id": "bb7ebf91",
   "metadata": {
    "vscode": {
     "languageId": "java"
    }
   },
   "outputs": [
    {
     "name": "stdout",
     "output_type": "stream",
     "text": [
      "a = 5\n",
      "++a = 6\n",
      "a-- = 6\n",
      "after a--, a = 5\n",
      "2 + 2*2 + 10/5 + 1 = 9\n",
      "Short-circuit OR true, z not incremented → z = 15\n",
      "Logical OR always evaluates both → z = 16\n",
      "Age 17 → minor\n",
      "m = 5, n = 5\n"
     ]
    }
   ],
   "source": [
    "// Demonstrating operator precedence and different categories\n",
    "\n",
    "// Unary\n",
    "int a = 5;\n",
    "System.out.println(\"a = \" + a);\n",
    "System.out.println(\"++a = \" + (++a)); // pre-increment\n",
    "System.out.println(\"a-- = \" + (a--)); // post-decrement\n",
    "System.out.println(\"after a--, a = \" + a);\n",
    "\n",
    "// Binary with precedence\n",
    "int expr1 = 2 + 2 * 2 + 10 / 5 + 1;\n",
    "// => 2 + (2*2) + (10/5) + 1 = 9\n",
    "System.out.println(\"2 + 2*2 + 10/5 + 1 = \" + expr1);\n",
    "\n",
    "// Logical vs conditional\n",
    "int x = 5, y = 10, z = 15;\n",
    "if ((x < y) || (++z > 10)) {\n",
    "    System.out.println(\"Short-circuit OR true, z not incremented → z = \" + z);\n",
    "}\n",
    "z = 15; // reset\n",
    "if ((x < y) | (++z > 10)) {\n",
    "    System.out.println(\"Logical OR always evaluates both → z = \" + z);\n",
    "}\n",
    "\n",
    "// Ternary\n",
    "int age = 17;\n",
    "String status = (age >= 18) ? \"adult\" : \"minor\";\n",
    "System.out.println(\"Age \" + age + \" → \" + status);\n",
    "\n",
    "// Assignment associativity\n",
    "int m, n;\n",
    "m = n = 5;  // right-to-left\n",
    "System.out.println(\"m = \" + m + \", n = \" + n);\n"
   ]
  }
 ],
 "metadata": {
  "kernelspec": {
   "display_name": "Java",
   "language": "java",
   "name": "java"
  },
  "language_info": {
   "codemirror_mode": "java",
   "file_extension": ".jshell",
   "mimetype": "text/x-java-source",
   "name": "Java",
   "pygments_lexer": "java",
   "version": "21.0.8+9-LTS"
  }
 },
 "nbformat": 4,
 "nbformat_minor": 5
}
