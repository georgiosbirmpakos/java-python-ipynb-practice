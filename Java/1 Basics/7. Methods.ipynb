{
 "cells": [
  {
   "cell_type": "markdown",
   "id": "0779b0e9",
   "metadata": {},
   "source": [
    "# Defining Methods — Interview Q&A\n",
    "\n",
    "**Q:** What is the syntax of a method in Java?  \n",
    "**A:**  \n",
    "`[accessModifier] [optionalSpecifiers] returnType methodName(paramList) [throws ExceptionList] { body }`  \n",
    "\n",
    "Example:  \n",
    "```java\n",
    "public static int sum(int a, int b) throws IOException { ... }\n",
    "```\n",
    "\n",
    "**Q:** What does the method signature consist of?\n",
    "**A:**  The method name and the ordered list of parameter types. Access modifiers, return type, and exceptions are not part of the signature.\n",
    "\n",
    "**Q:** What are the rules for the return type?\n",
    "**A:**  The return type must match the declared type or be compatible. If declared void, the method cannot return a value. If non-void, every execution path must return a value.\n",
    "\n",
    "**Q:** What are the rules for identifiers and parameters?\n",
    "**A:**  Method names must be valid Java identifiers (letters, digits, _, $, not starting with digit). Parameter names follow the same rules. You cannot have duplicate parameter names.\n",
    "\n",
    "**Q:** How are exceptions declared?\n",
    "**A:**  With throws after the parameter list. Checked exceptions must be declared or handled; unchecked (runtime) exceptions don’t need to be declared.\n",
    "\n",
    "**Q:** When can a method have an empty body?\n",
    "**A:**  If it is abstract (no body, ends with ;) or defined inside an interface (implicitly abstract unless default or static). Otherwise, it must have {} braces, even if empty.\n",
    "\n",
    "**Quick takeaways**\n",
    "\n",
    "- Method signature = name + parameter types.\n",
    "- Return type must be consistent with return statements.\n",
    "- Valid identifiers follow Java naming rules.\n",
    "- Checked exceptions must be declared with throws.\n",
    "- Empty body allowed only for abstract or interface methods.\n"
   ]
  },
  {
   "cell_type": "code",
   "execution_count": null,
   "id": "b797013e",
   "metadata": {
    "vscode": {
     "languageId": "plaintext"
    }
   },
   "outputs": [],
   "source": [
    "\n",
    "// Method syntax examples\n",
    "class MethodExamples {\n",
    "\n",
    "    // Access modifier + return type + parameters\n",
    "    public int add(int a, int b) {\n",
    "        return a + b;\n",
    "    }\n",
    "\n",
    "    // void return type: no value returned\n",
    "    private void log(String msg) {\n",
    "        System.out.println(\"LOG: \" + msg);\n",
    "    }\n",
    "\n",
    "    // Checked exception must be declared\n",
    "    public void mightThrow(boolean flag) throws Exception {\n",
    "        if (flag) throw new Exception(\"Something went wrong\");\n",
    "    }\n",
    "\n",
    "    // Abstract method (no body) — allowed only in abstract classes\n",
    "    abstract static class AbstractClass {\n",
    "        abstract void doWork();\n",
    "    }\n",
    "\n",
    "    // Example of empty body with valid syntax\n",
    "    public void doNothing() {}\n",
    "}\n",
    "\n",
    "// Using the methods\n",
    "MethodExamples m = new MethodExamples();\n",
    "System.out.println(\"add(2,3) = \" + m.add(2,3));\n",
    "m.log(\"Hello\");\n",
    "// m.mightThrow(true); // would throw checked exception\n"
   ]
  }
 ],
 "metadata": {
  "language_info": {
   "name": "python"
  }
 },
 "nbformat": 4,
 "nbformat_minor": 5
}
