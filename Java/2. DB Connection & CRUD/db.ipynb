{
 "cells": [
  {
   "cell_type": "markdown",
   "id": "68c405dc",
   "metadata": {},
   "source": [
    "If you change Java version via C:\\Tools\\switch-java.ps1 , close and restart VSCode"
   ]
  },
  {
   "cell_type": "code",
   "execution_count": 32,
   "id": "48043c64",
   "metadata": {},
   "outputs": [
    {
     "name": "stdout",
     "output_type": "stream",
     "text": [
      "21.0.8\n",
      "Eclipse Adoptium\n",
      "C:\\Program Files\\Java\\jdk-21\n"
     ]
    }
   ],
   "source": [
    "System.out.println(System.getProperty(\"java.version\"));\n",
    "System.out.println(System.getProperty(\"java.vendor\"));\n",
    "System.out.println(System.getProperty(\"java.home\"));"
   ]
  },
  {
   "cell_type": "markdown",
   "id": "ac5103c6",
   "metadata": {},
   "source": [
    "# Installing Maven Dependencies"
   ]
  },
  {
   "cell_type": "code",
   "execution_count": 44,
   "id": "b8960c46",
   "metadata": {},
   "outputs": [],
   "source": [
    "%maven org.springframework.boot:spring-boot-starter-data-jpa:3.3.3\n",
    "%maven org.springframework.boot:spring-boot-autoconfigure:3.3.3\n",
    "%maven org.springframework.boot:spring-boot:3.3.3\n",
    "%maven org.postgresql:postgresql:42.7.3\n",
    "%maven io.github.cdimascio:dotenv-java:3.0.0\n",
    "%maven com.zaxxer:HikariCP:5.1.0"
   ]
  },
  {
   "cell_type": "code",
   "execution_count": 41,
   "id": "dd370638",
   "metadata": {},
   "outputs": [],
   "source": [
    "import io.github.cdimascio.dotenv.Dotenv;\n",
    "\n",
    "public class DbSettings {\n",
    "    private static final Dotenv dotenv = Dotenv.load();\n",
    "\n",
    "    public static final String URL  = dotenv.get(\"DB_URL\");\n",
    "    public static final String USER = dotenv.get(\"DB_USER\");\n",
    "    public static final String PASS = dotenv.get(\"DB_PASSWORD\");\n",
    "}\n"
   ]
  }
 ],
 "metadata": {
  "kernelspec": {
   "display_name": "Java",
   "language": "java",
   "name": "java"
  },
  "language_info": {
   "codemirror_mode": "java",
   "file_extension": ".jshell",
   "mimetype": "text/x-java-source",
   "name": "java",
   "pygments_lexer": "java",
   "version": "21.0.8+9-LTS"
  }
 },
 "nbformat": 4,
 "nbformat_minor": 5
}
