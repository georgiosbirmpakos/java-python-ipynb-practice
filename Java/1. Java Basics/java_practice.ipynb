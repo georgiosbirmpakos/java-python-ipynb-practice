{
 "cells": [
  {
   "cell_type": "markdown",
   "id": "5b1cdb3e",
   "metadata": {},
   "source": [
    "pip install jupyter </br>\n",
    "git clone https://github.com/SpencerPark/IJava.git </br>\n",
    "cd IJava </br>\n",
    "./gradlew installKernel </br>"
   ]
  },
  {
   "cell_type": "markdown",
   "id": "0440ba0f",
   "metadata": {},
   "source": [
    "# TODOs\n",
    "\n",
    "How many CPU cores running\n",
    "What Virtual Threads give more than the previous\n",
    "Sealed Classes\n",
    "Static Final\n",
    "Collections - Lists and LeetCode.\n",
    "HTTP version\n",
    "Class Loader\n",
    "switch expressions vs switch statements\n",
    "garbage collector\n",
    "find the max consequences of a list"
   ]
  },
  {
   "cell_type": "markdown",
   "id": "433ba73c",
   "metadata": {},
   "source": [
    "# IDENTIFY JAVA VERSION"
   ]
  },
  {
   "cell_type": "code",
   "execution_count": 1,
   "id": "806bbbb0",
   "metadata": {},
   "outputs": [
    {
     "name": "stdout",
     "output_type": "stream",
     "text": [
      "11.0.22\n",
      "Oracle Corporation\n",
      "C:\\Program Files\\Java\\jdk-11.0.22\n"
     ]
    }
   ],
   "source": [
    "System.out.println(System.getProperty(\"java.version\"));\n",
    "System.out.println(System.getProperty(\"java.vendor\"));\n",
    "System.out.println(System.getProperty(\"java.home\"));"
   ]
  },
  {
   "cell_type": "markdown",
   "id": "aa86be94",
   "metadata": {},
   "source": [
    "## STRINGS"
   ]
  },
  {
   "cell_type": "code",
   "execution_count": 41,
   "id": "183aec7c",
   "metadata": {},
   "outputs": [
    {
     "name": "stdout",
     "output_type": "stream",
     "text": [
      "11\n",
      "h\n",
      "hello\n",
      "6\n",
      "hello java\n",
      "hello-world\n",
      "dlrow olleh\n"
     ]
    }
   ],
   "source": [
    "String s = \"hello world\";\n",
    "\n",
    "// Length\n",
    "System.out.println(s.length()); // 11\n",
    "\n",
    "// Access characters\n",
    "System.out.println(s.charAt(0));   // 'h'\n",
    "\n",
    "// Substring\n",
    "System.out.println(s.substring(0, 5)); // \"hello\"\n",
    "\n",
    "// Search\n",
    "System.out.println(s.indexOf(\"world\")); // 6\n",
    "\n",
    "// Replace\n",
    "System.out.println(s.replace(\"world\", \"java\")); // \"hello java\"\n",
    "\n",
    "// Split & Join\n",
    "String[] parts = s.split(\" \");\n",
    "System.out.println(String.join(\"-\", parts)); // \"hello-world\"\n",
    "\n",
    "// Reverse (with StringBuilder)\n",
    "String reversed = new StringBuilder(s).reverse().toString();\n",
    "System.out.println(reversed);"
   ]
  },
  {
   "cell_type": "markdown",
   "id": "f81af3c8",
   "metadata": {},
   "source": [
    "## Arrays"
   ]
  },
  {
   "cell_type": "code",
   "execution_count": 51,
   "id": "ca2f07f1",
   "metadata": {},
   "outputs": [
    {
     "name": "stdout",
     "output_type": "stream",
     "text": [
      "5\n",
      "3 2 1 4 5  \n",
      "1 2 3 4 5  \n",
      "5 4 3 2 1 "
     ]
    }
   ],
   "source": [
    "int[] nums = {3, 2, 1, 4, 5};\n",
    "\n",
    "// Length\n",
    "System.out.println(nums.length);\n",
    "\n",
    "// Loop\n",
    "for (int n : nums) {\n",
    "    System.out.print(n + \" \");\n",
    "}\n",
    "\n",
    "System.out.println( \" \");\n",
    "\n",
    "Arrays.sort(nums);\n",
    "for (int n : nums) {\n",
    "    System.out.print(n + \" \");\n",
    "}\n",
    "\n",
    "System.out.println( \" \");\n",
    "\n",
    "\n",
    "for (int i = nums.length - 1; i >= 0; i--) {\n",
    "    System.out.print(nums[i] + \" \");\n",
    "}\n"
   ]
  },
  {
   "cell_type": "markdown",
   "id": "464c854b",
   "metadata": {},
   "source": [
    "# Lists"
   ]
  },
  {
   "cell_type": "code",
   "execution_count": 56,
   "id": "40e75c64",
   "metadata": {},
   "outputs": [
    {
     "name": "stdout",
     "output_type": "stream",
     "text": [
      "10\n",
      "2\n",
      "[10, 30]\n",
      "[30, 10]\n"
     ]
    }
   ],
   "source": [
    "import java.util.*;\n",
    "\n",
    "List<Integer> list = new ArrayList<>();\n",
    "list.add(10);\n",
    "list.add(20);\n",
    "list.add(30);\n",
    "\n",
    "// Access\n",
    "System.out.println(list.get(0));\n",
    "\n",
    "// Remove\n",
    "list.remove(1);\n",
    "\n",
    "// Size\n",
    "System.out.println(list.size());\n",
    "\n",
    "// Sort\n",
    "Collections.sort(list);\n",
    "System.out.println(list);\n",
    "\n",
    "// Reverse Sort\n",
    "Collections.reverse(list);\n",
    "System.out.println(list);\n"
   ]
  },
  {
   "cell_type": "markdown",
   "id": "8156c16f",
   "metadata": {},
   "source": [
    "# SETS"
   ]
  },
  {
   "cell_type": "code",
   "execution_count": null,
   "id": "f03f9674",
   "metadata": {},
   "outputs": [
    {
     "name": "stdout",
     "output_type": "stream",
     "text": [
      "true\n"
     ]
    }
   ],
   "source": [
    "Set<String> set = new HashSet<>();\n",
    "set.add(\"apple\");\n",
    "set.add(\"banana\");\n",
    "set.add(\"apple\"); // duplicates ignored\n",
    "\n",
    "System.out.println(set.contains(\"banana\")); // true\n"
   ]
  },
  {
   "cell_type": "markdown",
   "id": "6f3a864b",
   "metadata": {},
   "source": [
    "# MAPS"
   ]
  },
  {
   "cell_type": "code",
   "execution_count": 7,
   "id": "a365ac00",
   "metadata": {},
   "outputs": [
    {
     "name": "stdout",
     "output_type": "stream",
     "text": [
      "90\n",
      "bob: 85\n",
      "alice: 90\n"
     ]
    }
   ],
   "source": [
    "Map<String, Integer> map = new HashMap<>();\n",
    "map.put(\"alice\", 90);\n",
    "map.put(\"bob\", 85);\n",
    "\n",
    "// Access\n",
    "System.out.println(map.get(\"alice\")); // 90\n",
    "\n",
    "// Loop\n",
    "for (Map.Entry<String, Integer> e : map.entrySet()) {\n",
    "    System.out.println(e.getKey() + \": \" + e.getValue());\n",
    "}\n"
   ]
  },
  {
   "cell_type": "markdown",
   "id": "7343ff6e",
   "metadata": {},
   "source": [
    "# Queue & Stack"
   ]
  },
  {
   "cell_type": "code",
   "execution_count": null,
   "id": "4b38f79c",
   "metadata": {},
   "outputs": [
    {
     "name": "stdout",
     "output_type": "stream",
     "text": [
      "1\n",
      "2\n",
      "[1]"
     ]
    }
   ],
   "source": [
    "// Queue\n",
    "Queue<Integer> q = new LinkedList<>();\n",
    "q.add(1);\n",
    "q.add(2);\n",
    "System.out.println(q.poll()); // removes 1\n",
    "\n",
    "// Stack\n",
    "Stack<Integer> stack = new Stack<>();\n",
    "stack.push(1);\n",
    "stack.push(2);\n",
    "System.out.println(stack.pop()); // removes 2\n"
   ]
  },
  {
   "cell_type": "code",
   "execution_count": 11,
   "id": "58b75315",
   "metadata": {},
   "outputs": [
    {
     "name": "stdout",
     "output_type": "stream",
     "text": [
      "2\n"
     ]
    }
   ],
   "source": [
    "PriorityQueue<Integer> minHeap = new PriorityQueue<>();\n",
    "minHeap.add(5);\n",
    "minHeap.add(2);\n",
    "minHeap.add(7);\n",
    "System.out.println(minHeap.poll()); // 2"
   ]
  },
  {
   "cell_type": "markdown",
   "id": "c7393817",
   "metadata": {},
   "source": [
    "# FOR LOOP"
   ]
  },
  {
   "cell_type": "code",
   "execution_count": 13,
   "id": "d7120780",
   "metadata": {},
   "outputs": [
    {
     "name": "stdout",
     "output_type": "stream",
     "text": [
      "i = 0\n",
      "i = 1\n",
      "i = 2\n",
      "i = 3\n",
      "i = 4\n"
     ]
    }
   ],
   "source": [
    "for (int i = 0; i < 5; i++) {\n",
    "    System.out.println(\"i = \" + i);\n",
    "}"
   ]
  },
  {
   "cell_type": "markdown",
   "id": "06cdfaa5",
   "metadata": {},
   "source": [
    "Enhanced for loop (for-each)"
   ]
  },
  {
   "cell_type": "code",
   "execution_count": 14,
   "id": "30cf9a4b",
   "metadata": {},
   "outputs": [
    {
     "name": "stdout",
     "output_type": "stream",
     "text": [
      "10\n",
      "20\n",
      "30\n",
      "40\n"
     ]
    }
   ],
   "source": [
    "int[] nums = {10, 20, 30, 40};\n",
    "\n",
    "for (int n : nums) {\n",
    "    System.out.println(n);\n",
    "}\n"
   ]
  },
  {
   "cell_type": "markdown",
   "id": "6a03fbd5",
   "metadata": {},
   "source": [
    "Loop through a List"
   ]
  },
  {
   "cell_type": "code",
   "execution_count": 15,
   "id": "2db696c6",
   "metadata": {},
   "outputs": [
    {
     "name": "stdout",
     "output_type": "stream",
     "text": [
      "Alice\n",
      "Bob\n",
      "Charlie\n"
     ]
    }
   ],
   "source": [
    "import java.util.*;\n",
    "\n",
    "List<String> names = Arrays.asList(\"Alice\", \"Bob\", \"Charlie\");\n",
    "\n",
    "for (String name : names) {\n",
    "    System.out.println(name);\n",
    "}\n"
   ]
  },
  {
   "cell_type": "markdown",
   "id": "e6187180",
   "metadata": {},
   "source": [
    "Reverse loop"
   ]
  },
  {
   "cell_type": "code",
   "execution_count": 16,
   "id": "42188838",
   "metadata": {},
   "outputs": [
    {
     "name": "stdout",
     "output_type": "stream",
     "text": [
      "40\n",
      "30\n",
      "20\n",
      "10\n"
     ]
    }
   ],
   "source": [
    "for (int i = nums.length - 1; i >= 0; i--) {\n",
    "    System.out.println(nums[i]);\n",
    "}\n"
   ]
  },
  {
   "cell_type": "markdown",
   "id": "fd452a97",
   "metadata": {},
   "source": [
    "NESTED LOOP"
   ]
  },
  {
   "cell_type": "code",
   "execution_count": 17,
   "id": "283d5c45",
   "metadata": {},
   "outputs": [
    {
     "name": "stdout",
     "output_type": "stream",
     "text": [
      "i=1, j=1\n",
      "i=1, j=2\n",
      "i=2, j=1\n",
      "i=2, j=2\n",
      "i=3, j=1\n",
      "i=3, j=2\n"
     ]
    }
   ],
   "source": [
    "for (int i = 1; i <= 3; i++) {\n",
    "    for (int j = 1; j <= 2; j++) {\n",
    "        System.out.println(\"i=\" + i + \", j=\" + j);\n",
    "    }\n",
    "}"
   ]
  },
  {
   "cell_type": "markdown",
   "id": "6c9dd3dc",
   "metadata": {},
   "source": [
    "# FOR EACH OBJECT LOOP"
   ]
  },
  {
   "cell_type": "code",
   "execution_count": 20,
   "id": "edb592f6",
   "metadata": {},
   "outputs": [
    {
     "name": "stdout",
     "output_type": "stream",
     "text": [
      "ID: 1, Name: Alice, GPA: 3.8\n",
      "ID: 2, Name: Bob, GPA: 3.4\n",
      "ID: 3, Name: Charlie, GPA: 3.9\n"
     ]
    }
   ],
   "source": [
    "import java.util.*;\n",
    "\n",
    "class Student {\n",
    "    int id;\n",
    "    String name;\n",
    "    double gpa;\n",
    "\n",
    "    Student(int id, String name, double gpa) {\n",
    "        this.id = id;\n",
    "        this.name = name;\n",
    "        this.gpa = gpa;\n",
    "    }\n",
    "}\n",
    "\n",
    "List<Student> students = new ArrayList<>();\n",
    "students.add(new Student(1, \"Alice\", 3.8));\n",
    "students.add(new Student(2, \"Bob\", 3.4));\n",
    "students.add(new Student(3, \"Charlie\", 3.9));\n",
    "\n",
    "// ✅ For-each loop over objects\n",
    "for (Student s : students) {\n",
    "    System.out.println(\"ID: \" + s.id + \", Name: \" + s.name + \", GPA: \" + s.gpa);\n",
    "\n",
    "}"
   ]
  },
  {
   "cell_type": "markdown",
   "id": "4268937a",
   "metadata": {},
   "source": [
    "# THREADS"
   ]
  },
  {
   "cell_type": "markdown",
   "id": "90557e40",
   "metadata": {},
   "source": [
    "Extending Thread"
   ]
  },
  {
   "cell_type": "code",
   "execution_count": 27,
   "id": "02d57731",
   "metadata": {},
   "outputs": [],
   "source": [
    "class MyThread extends Thread {\n",
    "    private String name;\n",
    "\n",
    "    MyThread(String name) {\n",
    "        this.name = name;\n",
    "    }\n",
    "\n",
    "    @Override\n",
    "    public void run() {\n",
    "        for (int i = 1; i <= 5; i++) {\n",
    "            System.out.println(name + \" running, count = \" + i);\n",
    "            try {\n",
    "                Thread.sleep(500); // simulate work\n",
    "            } catch (InterruptedException e) {\n",
    "                e.printStackTrace();\n",
    "            }\n",
    "        }\n",
    "    }\n",
    "}\n"
   ]
  },
  {
   "cell_type": "code",
   "execution_count": 28,
   "id": "07d68660",
   "metadata": {},
   "outputs": [
    {
     "name": "stdout",
     "output_type": "stream",
     "text": [
      "Thread A running, count = 1\n",
      "Thread B running, count = 1"
     ]
    }
   ],
   "source": [
    "MyThread t1 = new MyThread(\"Thread A\");\n",
    "MyThread t2 = new MyThread(\"Thread B\");\n",
    "\n",
    "t1.start();\n",
    "t2.start();"
   ]
  },
  {
   "cell_type": "markdown",
   "id": "83fca153",
   "metadata": {},
   "source": [
    "Runnable Interface"
   ]
  },
  {
   "cell_type": "code",
   "execution_count": 29,
   "id": "f0ba5ec3",
   "metadata": {},
   "outputs": [],
   "source": [
    "class MyRunnable implements Runnable {\n",
    "    private String name;\n",
    "\n",
    "    MyRunnable(String name) {\n",
    "        this.name = name;\n",
    "    }\n",
    "\n",
    "    @Override\n",
    "    public void run() {\n",
    "        for (int i = 1; i <= 5; i++) {\n",
    "            System.out.println(name + \" running, count = \" + i);\n",
    "            try {\n",
    "                Thread.sleep(500);\n",
    "            } catch (InterruptedException e) {\n",
    "                e.printStackTrace();\n",
    "            }\n",
    "        }\n",
    "    }\n",
    "}"
   ]
  },
  {
   "cell_type": "code",
   "execution_count": 30,
   "id": "195a9f59",
   "metadata": {},
   "outputs": [
    {
     "name": "stdout",
     "output_type": "stream",
     "text": [
      "Worker 1 running, count = 1\n",
      "Worker 2 running, count = 1"
     ]
    }
   ],
   "source": [
    "Thread t1 = new Thread(new MyRunnable(\"Worker 1\"));\n",
    "Thread t2 = new Thread(new MyRunnable(\"Worker 2\"));\n",
    "\n",
    "t1.start();\n",
    "t2.start();"
   ]
  },
  {
   "cell_type": "markdown",
   "id": "178a97a2",
   "metadata": {},
   "source": [
    "# LAMBDA EXPRESSIONS"
   ]
  },
  {
   "cell_type": "markdown",
   "id": "9ddc0178",
   "metadata": {},
   "source": [
    "Lambda with Collections"
   ]
  },
  {
   "cell_type": "code",
   "execution_count": 31,
   "id": "c5140d25",
   "metadata": {},
   "outputs": [
    {
     "name": "stdout",
     "output_type": "stream",
     "text": [
      "Alice\n",
      "Bob\n",
      "Charlie\n"
     ]
    }
   ],
   "source": [
    "List<String> names = Arrays.asList(\"Alice\", \"Bob\", \"Charlie\");\n",
    "\n",
    "// Print each name\n",
    "names.forEach(n -> System.out.println(n));\n"
   ]
  },
  {
   "cell_type": "markdown",
   "id": "6eb4bc1b",
   "metadata": {},
   "source": [
    "Sorting with Comparator + Lambda"
   ]
  },
  {
   "cell_type": "code",
   "execution_count": 32,
   "id": "54233b57",
   "metadata": {},
   "outputs": [
    {
     "name": "stdout",
     "output_type": "stream",
     "text": [
      "[Apple, Banana, Mango]\n",
      "[Mango, Banana, Apple]\n"
     ]
    }
   ],
   "source": [
    "List<String> fruits = Arrays.asList(\"Banana\", \"Apple\", \"Mango\");\n",
    "\n",
    "fruits.sort((a, b) -> a.compareTo(b));   // ascending\n",
    "System.out.println(fruits);\n",
    "\n",
    "fruits.sort((a, b) -> b.compareTo(a));   // descending\n",
    "System.out.println(fruits);\n"
   ]
  },
  {
   "cell_type": "markdown",
   "id": "e94f7be4",
   "metadata": {},
   "source": [
    "MAP Transformation"
   ]
  },
  {
   "cell_type": "code",
   "execution_count": 33,
   "id": "84445732",
   "metadata": {},
   "outputs": [
    {
     "name": "stdout",
     "output_type": "stream",
     "text": [
      "1\n",
      "4\n",
      "9\n",
      "16\n"
     ]
    }
   ],
   "source": [
    "List<Integer> nums = Arrays.asList(1, 2, 3, 4);\n",
    "\n",
    "nums.stream()\n",
    "    .map(x -> x * x)   // square each number\n",
    "    .forEach(x -> System.out.println(x));"
   ]
  },
  {
   "cell_type": "markdown",
   "id": "bbcdaf4e",
   "metadata": {},
   "source": [
    "1. Predicate<T>\n",
    "\n",
    "Takes a value → returns boolean"
   ]
  },
  {
   "cell_type": "code",
   "execution_count": 34,
   "id": "912251ad",
   "metadata": {},
   "outputs": [
    {
     "name": "stdout",
     "output_type": "stream",
     "text": [
      "true\n",
      "false\n"
     ]
    }
   ],
   "source": [
    "import java.util.function.*;\n",
    "\n",
    "Predicate<Integer> isEven = x -> x % 2 == 0;\n",
    "\n",
    "System.out.println(isEven.test(4));  // true\n",
    "System.out.println(isEven.test(7));  // false\n"
   ]
  },
  {
   "cell_type": "markdown",
   "id": "7945b7f5",
   "metadata": {},
   "source": [
    "2. Function<T, R>\n",
    "\n",
    "Takes a value → returns a transformed value."
   ]
  },
  {
   "cell_type": "code",
   "execution_count": 35,
   "id": "13ed219a",
   "metadata": {},
   "outputs": [
    {
     "name": "stdout",
     "output_type": "stream",
     "text": [
      "5\n"
     ]
    }
   ],
   "source": [
    "Function<String, Integer> strLength = s -> s.length();\n",
    "\n",
    "System.out.println(strLength.apply(\"Hello\")); // 5\n"
   ]
  },
  {
   "cell_type": "markdown",
   "id": "531b302d",
   "metadata": {},
   "source": [
    "3. Consumer<T>\n",
    "\n",
    "Takes a value → does something (no return)."
   ]
  },
  {
   "cell_type": "code",
   "execution_count": 36,
   "id": "8752fcd9",
   "metadata": {},
   "outputs": [
    {
     "name": "stdout",
     "output_type": "stream",
     "text": [
      "Hi, Alice\n"
     ]
    }
   ],
   "source": [
    "Consumer<String> printer = s -> System.out.println(\"Hi, \" + s);\n",
    "\n",
    "printer.accept(\"Alice\"); // prints: Hi, Alice\n"
   ]
  },
  {
   "cell_type": "markdown",
   "id": "49a9b0b5",
   "metadata": {},
   "source": [
    "4. Supplier<T>\n",
    "\n",
    "Takes nothing → returns a value."
   ]
  },
  {
   "cell_type": "code",
   "execution_count": 38,
   "id": "255b0dc8",
   "metadata": {},
   "outputs": [
    {
     "name": "stdout",
     "output_type": "stream",
     "text": [
      "0.00668851504003809\n"
     ]
    }
   ],
   "source": [
    "Supplier<Double> randomGen = () -> Math.random();\n",
    "\n",
    "System.out.println(randomGen.get()); // e.g. 0.7324"
   ]
  },
  {
   "cell_type": "markdown",
   "id": "ad3da873",
   "metadata": {},
   "source": [
    "5. Comparator<T>\n",
    "\n",
    "Compares two values → returns int (-, 0, +)."
   ]
  },
  {
   "cell_type": "code",
   "execution_count": 39,
   "id": "1439a962",
   "metadata": {},
   "outputs": [
    {
     "name": "stdout",
     "output_type": "stream",
     "text": [
      "[Fig, Apple, Banana]\n"
     ]
    }
   ],
   "source": [
    "import java.util.*;\n",
    "\n",
    "Comparator<String> byLength = (a, b) -> Integer.compare(a.length(), b.length());\n",
    "\n",
    "List<String> fruits = Arrays.asList(\"Banana\", \"Apple\", \"Fig\");\n",
    "fruits.sort(byLength);\n",
    "\n",
    "System.out.println(fruits); // [Fig, Apple, Banana]\n"
   ]
  },
  {
   "cell_type": "markdown",
   "id": "0c53a0de",
   "metadata": {},
   "source": [
    "# Parallel Streams"
   ]
  },
  {
   "cell_type": "code",
   "execution_count": 40,
   "id": "328f2ac0",
   "metadata": {},
   "outputs": [
    {
     "name": "stdout",
     "output_type": "stream",
     "text": [
      "Processing 7 in IJava-executor-10\n",
      "Processing 4 in ForkJoinPool.commonPool-worker-13\n",
      "Processing 10 in ForkJoinPool.commonPool-worker-15\n",
      "Result: 100\n",
      "Processing 8 in ForkJoinPool.commonPool-worker-11\n",
      "Result: 64\n",
      "Processing 1 in ForkJoinPool.commonPool-worker-11\n",
      "Result: 1\n",
      "Processing 3 in ForkJoinPool.commonPool-worker-3\n",
      "Result: 9\n",
      "Processing 5 in ForkJoinPool.commonPool-worker-9\n",
      "Result: 25\n",
      "Processing 2 in ForkJoinPool.commonPool-worker-7\n",
      "Result: 4\n",
      "Processing 9 in ForkJoinPool.commonPool-worker-5\n",
      "Result: 81\n",
      "Processing 6 in ForkJoinPool.commonPool-worker-15\n",
      "Result: 36\n",
      "Result: 16\n",
      "Result: 49\n"
     ]
    }
   ],
   "source": [
    "import java.util.*;\n",
    "import java.util.stream.*;\n",
    "\n",
    "List<Integer> nums = Arrays.asList(1, 2, 3, 4, 5, 6, 7, 8, 9, 10);\n",
    "\n",
    "nums.parallelStream()                  // 🚀 parallel instead of stream()\n",
    "    .map(n -> {\n",
    "        System.out.println(\"Processing \" + n + \" in \" + Thread.currentThread().getName());\n",
    "        return n * n;\n",
    "    })\n",
    "    .forEach(res -> System.out.println(\"Result: \" + res));"
   ]
  }
 ],
 "metadata": {
  "kernelspec": {
   "display_name": "Java",
   "language": "java",
   "name": "java"
  },
  "language_info": {
   "codemirror_mode": "java",
   "file_extension": ".jshell",
   "mimetype": "text/x-java-source",
   "name": "java",
   "pygments_lexer": "java",
   "version": "11.0.22+9-LTS-219"
  }
 },
 "nbformat": 4,
 "nbformat_minor": 5
}
