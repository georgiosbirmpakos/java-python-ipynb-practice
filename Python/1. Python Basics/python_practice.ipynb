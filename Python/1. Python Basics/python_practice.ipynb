{
 "cells": [
  {
   "cell_type": "markdown",
   "id": "a9bea522",
   "metadata": {},
   "source": [
    "# STRINGS"
   ]
  },
  {
   "cell_type": "code",
   "execution_count": 50,
   "id": "5454afa6",
   "metadata": {},
   "outputs": [
    {
     "name": "stdout",
     "output_type": "stream",
     "text": [
      "h\n",
      "d\n",
      "hello\n",
      "dlrow olleh\n"
     ]
    }
   ],
   "source": [
    "s = \"hello world\"\n",
    "print(s[0])      # 'h' (first char)\n",
    "print(s[-1])     # 'd' (last char)\n",
    "print(s[0:5])    # 'hello' (slice)\n",
    "print(s[::-1])   # 'dlrow olleh' (reverse)"
   ]
  },
  {
   "cell_type": "code",
   "execution_count": 51,
   "id": "9e39a4f7",
   "metadata": {},
   "outputs": [
    {
     "name": "stdout",
     "output_type": "stream",
     "text": [
      "HELLO WORLD\n",
      "hello world\n",
      "Hello World\n"
     ]
    }
   ],
   "source": [
    "print(s.upper())   # 'HELLO WORLD'\n",
    "print(s.lower())   # 'hello world'\n",
    "print(s.title())   # 'Hello World'"
   ]
  },
  {
   "cell_type": "code",
   "execution_count": 52,
   "id": "2e05bac6",
   "metadata": {},
   "outputs": [
    {
     "name": "stdout",
     "output_type": "stream",
     "text": [
      "6\n",
      "True\n",
      "False\n"
     ]
    }
   ],
   "source": [
    "print(s.find(\"world\"))   # 6 (index of first match)\n",
    "print(\"world\" in s)      # True\n",
    "print(\"python\" in s)     # False"
   ]
  },
  {
   "cell_type": "code",
   "execution_count": 53,
   "id": "bcd08ab3",
   "metadata": {},
   "outputs": [
    {
     "name": "stdout",
     "output_type": "stream",
     "text": [
      "hello python\n"
     ]
    }
   ],
   "source": [
    "print(s.replace(\"world\", \"python\"))   # 'hello python'"
   ]
  },
  {
   "cell_type": "code",
   "execution_count": 54,
   "id": "dfb59c06",
   "metadata": {},
   "outputs": [
    {
     "name": "stdout",
     "output_type": "stream",
     "text": [
      "hello\n",
      "hello   \n",
      "   hello\n"
     ]
    }
   ],
   "source": [
    "x = \"   hello   \"\n",
    "print(x.strip())   # 'hello'\n",
    "print(x.lstrip())  # 'hello   '\n",
    "print(x.rstrip())  # '   hello'\n"
   ]
  },
  {
   "cell_type": "code",
   "execution_count": 55,
   "id": "778c46dc",
   "metadata": {},
   "outputs": [
    {
     "name": "stdout",
     "output_type": "stream",
     "text": [
      "hello-world\n"
     ]
    }
   ],
   "source": [
    "words = s.split()          # ['hello', 'world']\n",
    "print(\"-\".join(words))     # 'hello-world'"
   ]
  },
  {
   "cell_type": "code",
   "execution_count": 56,
   "id": "f8b52eb0",
   "metadata": {},
   "outputs": [
    {
     "name": "stdout",
     "output_type": "stream",
     "text": [
      "3\n"
     ]
    }
   ],
   "source": [
    "print(s.count(\"l\"))   # 3"
   ]
  },
  {
   "cell_type": "code",
   "execution_count": 59,
   "id": "9704082d",
   "metadata": {},
   "outputs": [
    {
     "name": "stdout",
     "output_type": "stream",
     "text": [
      "True\n",
      "True\n",
      "True\n",
      "True\n"
     ]
    }
   ],
   "source": [
    "print(\"123\".isdigit())   # True\n",
    "print(\"abc\".isalpha())   # True\n",
    "print(\"abc123\".isalnum())# True\n",
    "print(\"hello\".islower()) # True\n"
   ]
  },
  {
   "cell_type": "markdown",
   "id": "c3b57891",
   "metadata": {},
   "source": [
    "## DICTIONARY"
   ]
  },
  {
   "cell_type": "code",
   "execution_count": 5,
   "id": "b1086e9e",
   "metadata": {},
   "outputs": [
    {
     "data": {
      "text/plain": [
       "'Math'"
      ]
     },
     "execution_count": 5,
     "metadata": {},
     "output_type": "execute_result"
    }
   ],
   "source": [
    "# A sample practice dictionary\n",
    "practice_dict = {\n",
    "    \"student\": {\n",
    "        \"name\": \"Alice\",\n",
    "        \"age\": 22,\n",
    "        \"courses\": [\"Math\", \"Physics\", \"Computer Science\"],\n",
    "        \"grades\": {\"Math\": \"A\", \"Physics\": \"B+\", \"Computer Science\": \"A-\"}\n",
    "    },\n",
    "    \"library\": {\n",
    "        \"books\": [\n",
    "            {\"title\": \"Python 101\", \"author\": \"John Doe\", \"available\": True},\n",
    "            {\"title\": \"Deep Learning\", \"author\": \"Jane Smith\", \"available\": False},\n",
    "            {\"title\": \"Data Science Handbook\", \"author\": \"Mike Ross\", \"available\": True}\n",
    "        ],\n",
    "        \"open_hours\": {\"Mon-Fri\": \"9am-6pm\", \"Sat\": \"10am-4pm\", \"Sun\": \"Closed\"}\n",
    "    },\n",
    "    \"university\": {\n",
    "        \"name\": \"Tech University\",\n",
    "        \"location\": \"Zurich\",\n",
    "        \"departments\": [\"Engineering\", \"Mathematics\", \"Arts\"]\n",
    "    }\n",
    "}\n",
    "\n",
    "practice_dict[\"student\"].get(\"courses\")[0]"
   ]
  },
  {
   "cell_type": "code",
   "execution_count": 11,
   "id": "d57bc265",
   "metadata": {},
   "outputs": [
    {
     "name": "stdout",
     "output_type": "stream",
     "text": [
      "student\n",
      "library\n",
      "university\n"
     ]
    }
   ],
   "source": [
    "for key in practice_dict:\n",
    "    print(key)"
   ]
  },
  {
   "cell_type": "code",
   "execution_count": 12,
   "id": "08f795fc",
   "metadata": {},
   "outputs": [
    {
     "name": "stdout",
     "output_type": "stream",
     "text": [
      "{'name': 'Alice', 'age': 22, 'courses': ['Math', 'Physics', 'Computer Science'], 'grades': {'Math': 'A', 'Physics': 'B+', 'Computer Science': 'A-'}}\n",
      "{'books': [{'title': 'Python 101', 'author': 'John Doe', 'available': True}, {'title': 'Deep Learning', 'author': 'Jane Smith', 'available': False}, {'title': 'Data Science Handbook', 'author': 'Mike Ross', 'available': True}], 'open_hours': {'Mon-Fri': '9am-6pm', 'Sat': '10am-4pm', 'Sun': 'Closed'}}\n",
      "{'name': 'Tech University', 'location': 'Zurich', 'departments': ['Engineering', 'Mathematics', 'Arts']}\n"
     ]
    }
   ],
   "source": [
    "for value in practice_dict.values():\n",
    "    print(value)"
   ]
  },
  {
   "cell_type": "code",
   "execution_count": 14,
   "id": "b1ba4690",
   "metadata": {},
   "outputs": [
    {
     "name": "stdout",
     "output_type": "stream",
     "text": [
      "student : {'name': 'Alice', 'age': 22, 'courses': ['Math', 'Physics', 'Computer Science'], 'grades': {'Math': 'A', 'Physics': 'B+', 'Computer Science': 'A-'}}\n",
      "library : {'books': [{'title': 'Python 101', 'author': 'John Doe', 'available': True}, {'title': 'Deep Learning', 'author': 'Jane Smith', 'available': False}, {'title': 'Data Science Handbook', 'author': 'Mike Ross', 'available': True}], 'open_hours': {'Mon-Fri': '9am-6pm', 'Sat': '10am-4pm', 'Sun': 'Closed'}}\n",
      "university : {'name': 'Tech University', 'location': 'Zurich', 'departments': ['Engineering', 'Mathematics', 'Arts']}\n"
     ]
    }
   ],
   "source": [
    "for key, value in practice_dict.items():\n",
    "    print(key, \":\", value)"
   ]
  },
  {
   "cell_type": "markdown",
   "id": "fa8e942d",
   "metadata": {},
   "source": [
    "## PANDAS"
   ]
  },
  {
   "cell_type": "code",
   "execution_count": 26,
   "id": "cff0a5dc",
   "metadata": {},
   "outputs": [
    {
     "name": "stdout",
     "output_type": "stream",
     "text": [
      "    StudentID     Name        Department  GPA\n",
      "0           1    Alice              Math  3.8\n",
      "1           2      Bob           Physics  3.4\n",
      "2           3  Charlie               NaN  NaN\n",
      "3           4    David  Computer Science  3.9\n",
      "4           5      Eve              Math  3.2\n",
      "5           6    Frank           Biology  2.9\n",
      "6           7    Grace              Math  3.7\n",
      "7           8    Helen           Physics  3.5\n",
      "8           9      Ian  Computer Science  NaN\n",
      "9          10     Jack           Biology  3.0\n",
      "10         11    Karen              Math  3.6\n",
      "11         12      Leo           Physics  2.8\n",
      "12         13     Mona           Biology  3.1\n",
      "13         14     Nina               NaN  3.9\n",
      "14         15    Oscar  Computer Science  3.3\n",
      "15         16     Paul              Math  3.0\n",
      "16         17   Quincy           Physics  3.4\n",
      "17         18   Rachel           Biology  3.6\n",
      "18         19    Steve  Computer Science  NaN\n",
      "19         20     Tina              Math  2.7\n",
      "20         21      Uma           Physics  3.5\n",
      "21         22   Victor           Biology  3.2\n",
      "22         23    Wendy  Computer Science  3.8\n",
      "23         24   Xander              Math  3.9\n",
      "24         25     Yara               NaN  NaN\n",
      "    StudentID     Name        Department  GPA\n",
      "0           1    Alice              Math  3.8\n",
      "1           2      Bob           Physics  3.4\n",
      "2           3  Charlie               NaN  NaN\n",
      "3           4    David  Computer Science  3.9\n",
      "4           5      Eve              Math  3.2\n",
      "5           6    Frank           Biology  2.9\n",
      "6           7    Grace              Math  3.7\n",
      "7           8    Helen           Physics  3.5\n",
      "8           9      Ian  Computer Science  NaN\n",
      "9          10     Jack           Biology  3.0\n",
      "10         11    Karen              Math  3.6\n",
      "11         12      Leo           Physics  2.8\n",
      "12         13     Mona           Biology  3.1\n",
      "13         14     Nina               NaN  3.9\n",
      "14         15    Oscar  Computer Science  3.3\n",
      "15         16     Paul              Math  3.0\n",
      "16         17   Quincy           Physics  3.4\n",
      "17         18   Rachel           Biology  3.6\n",
      "18         19    Steve  Computer Science  NaN\n",
      "19         20     Tina              Math  2.7\n",
      "20         21      Uma           Physics  3.5\n",
      "21         22   Victor           Biology  3.2\n",
      "22         23    Wendy  Computer Science  3.8\n",
      "23         24   Xander              Math  3.9\n",
      "24         25     Yara               NaN  NaN \n",
      "\n",
      "   StudentID           Course  Credits\n",
      "0          1          Algebra        5\n",
      "1          2  Quantum Physics        6\n",
      "2          3               AI        4\n",
      "3          6       Philosophy        3\n"
     ]
    }
   ],
   "source": [
    "import pandas as pd\n",
    "import numpy as np\n",
    "\n",
    "# First DataFrame with 25 students\n",
    "students = pd.DataFrame({\n",
    "    \"StudentID\": list(range(1, 26)),\n",
    "    \"Name\": [\n",
    "        \"Alice\", \"Bob\", \"Charlie\", \"David\", \"Eve\",\n",
    "        \"Frank\", \"Grace\", \"Helen\", \"Ian\", \"Jack\",\n",
    "        \"Karen\", \"Leo\", \"Mona\", \"Nina\", \"Oscar\",\n",
    "        \"Paul\", \"Quincy\", \"Rachel\", \"Steve\", \"Tina\",\n",
    "        \"Uma\", \"Victor\", \"Wendy\", \"Xander\", \"Yara\"\n",
    "    ],\n",
    "    \"Department\": [\n",
    "        \"Math\", \"Physics\", np.nan, \"Computer Science\", \"Math\",\n",
    "        \"Biology\", \"Math\", \"Physics\", \"Computer Science\", \"Biology\",\n",
    "        \"Math\", \"Physics\", \"Biology\", np.nan, \"Computer Science\",\n",
    "        \"Math\", \"Physics\", \"Biology\", \"Computer Science\", \"Math\",\n",
    "        \"Physics\", \"Biology\", \"Computer Science\", \"Math\", np.nan\n",
    "    ],\n",
    "    \"GPA\": [\n",
    "        3.8, 3.4, np.nan, 3.9, 3.2,\n",
    "        2.9, 3.7, 3.5, np.nan, 3.0,\n",
    "        3.6, 2.8, 3.1, 3.9, 3.3,\n",
    "        3.0, 3.4, 3.6, np.nan, 2.7,\n",
    "        3.5, 3.2, 3.8, 3.9, np.nan\n",
    "    ]\n",
    "})\n",
    "\n",
    "print(students)\n",
    "\n",
    "print(students, \"\\n\")\n",
    "\n",
    "# Second DataFrame\n",
    "enrollments = pd.DataFrame({\n",
    "    \"StudentID\": [1, 2, 3, 6],\n",
    "    \"Course\": [\"Algebra\", \"Quantum Physics\", \"AI\", \"Philosophy\"],\n",
    "    \"Credits\": [5, 6, 4, 3]\n",
    "})\n",
    "print(enrollments)\n"
   ]
  },
  {
   "cell_type": "code",
   "execution_count": 27,
   "id": "04fb4220",
   "metadata": {},
   "outputs": [
    {
     "name": "stdout",
     "output_type": "stream",
     "text": [
      "StudentID         1\n",
      "Name          Alice\n",
      "Department     Math\n",
      "GPA             3.8\n",
      "Name: 0, dtype: object \n",
      "\n",
      "StudentID       25\n",
      "Name          Yara\n",
      "Department     NaN\n",
      "GPA            NaN\n",
      "Name: 24, dtype: object \n",
      "\n",
      "    StudentID   Name  Department    GPA\n",
      "0       False  False       False  False\n",
      "1       False  False       False  False\n",
      "2       False  False        True   True\n",
      "3       False  False       False  False\n",
      "4       False  False       False  False\n",
      "5       False  False       False  False\n",
      "6       False  False       False  False\n",
      "7       False  False       False  False\n",
      "8       False  False       False   True\n",
      "9       False  False       False  False\n",
      "10      False  False       False  False\n",
      "11      False  False       False  False\n",
      "12      False  False       False  False\n",
      "13      False  False        True  False\n",
      "14      False  False       False  False\n",
      "15      False  False       False  False\n",
      "16      False  False       False  False\n",
      "17      False  False       False  False\n",
      "18      False  False       False   True\n",
      "19      False  False       False  False\n",
      "20      False  False       False  False\n",
      "21      False  False       False  False\n",
      "22      False  False       False  False\n",
      "23      False  False       False  False\n",
      "24      False  False        True   True \n",
      "\n",
      "StudentID     0\n",
      "Name          0\n",
      "Department    3\n",
      "GPA           4\n",
      "dtype: int64 \n",
      "\n"
     ]
    }
   ],
   "source": [
    "print(students.iloc[0], \"\\n\")     # first row\n",
    "print(students.iloc[-1], \"\\n\")    # last row\n",
    "print(students.isna(), \"\\n\")       # True/False matrix\n",
    "print(students.isna().sum(), \"\\n\") # Count per column"
   ]
  },
  {
   "cell_type": "code",
   "execution_count": 28,
   "id": "97e0047a",
   "metadata": {},
   "outputs": [
    {
     "name": "stdout",
     "output_type": "stream",
     "text": [
      "    StudentID    Name        Department  GPA\n",
      "0           1   Alice              Math  3.8\n",
      "1           2     Bob           Physics  3.4\n",
      "3           4   David  Computer Science  3.9\n",
      "4           5     Eve              Math  3.2\n",
      "5           6   Frank           Biology  2.9\n",
      "6           7   Grace              Math  3.7\n",
      "7           8   Helen           Physics  3.5\n",
      "9          10    Jack           Biology  3.0\n",
      "10         11   Karen              Math  3.6\n",
      "11         12     Leo           Physics  2.8\n",
      "12         13    Mona           Biology  3.1\n",
      "14         15   Oscar  Computer Science  3.3\n",
      "15         16    Paul              Math  3.0\n",
      "16         17  Quincy           Physics  3.4\n",
      "17         18  Rachel           Biology  3.6\n",
      "19         20    Tina              Math  2.7\n",
      "20         21     Uma           Physics  3.5\n",
      "21         22  Victor           Biology  3.2\n",
      "22         23   Wendy  Computer Science  3.8\n",
      "23         24  Xander              Math  3.9\n"
     ]
    }
   ],
   "source": [
    "students_clean = students.dropna()\n",
    "print(students_clean)\n"
   ]
  },
  {
   "cell_type": "code",
   "execution_count": 29,
   "id": "17975629",
   "metadata": {},
   "outputs": [
    {
     "name": "stdout",
     "output_type": "stream",
     "text": [
      "Department\n",
      "Biology             3.160000\n",
      "Computer Science    3.666667\n",
      "Math                3.414286\n",
      "Physics             3.320000\n",
      "Name: GPA, dtype: float64\n"
     ]
    }
   ],
   "source": [
    "print(students.groupby(\"Department\")[\"GPA\"].mean())\n"
   ]
  },
  {
   "cell_type": "code",
   "execution_count": 31,
   "id": "c9b96d69",
   "metadata": {},
   "outputs": [
    {
     "name": "stdout",
     "output_type": "stream",
     "text": [
      "Inner Join:\n",
      "    StudentID     Name Department  GPA           Course  Credits\n",
      "0          1    Alice       Math  3.8          Algebra        5\n",
      "1          2      Bob    Physics  3.4  Quantum Physics        6\n",
      "2          3  Charlie        NaN  NaN               AI        4\n",
      "3          6    Frank    Biology  2.9       Philosophy        3 \n",
      "\n",
      "Left Join:\n",
      "     StudentID     Name        Department  GPA           Course  Credits\n",
      "0           1    Alice              Math  3.8          Algebra      5.0\n",
      "1           2      Bob           Physics  3.4  Quantum Physics      6.0\n",
      "2           3  Charlie               NaN  NaN               AI      4.0\n",
      "3           4    David  Computer Science  3.9              NaN      NaN\n",
      "4           5      Eve              Math  3.2              NaN      NaN\n",
      "5           6    Frank           Biology  2.9       Philosophy      3.0\n",
      "6           7    Grace              Math  3.7              NaN      NaN\n",
      "7           8    Helen           Physics  3.5              NaN      NaN\n",
      "8           9      Ian  Computer Science  NaN              NaN      NaN\n",
      "9          10     Jack           Biology  3.0              NaN      NaN\n",
      "10         11    Karen              Math  3.6              NaN      NaN\n",
      "11         12      Leo           Physics  2.8              NaN      NaN\n",
      "12         13     Mona           Biology  3.1              NaN      NaN\n",
      "13         14     Nina               NaN  3.9              NaN      NaN\n",
      "14         15    Oscar  Computer Science  3.3              NaN      NaN\n",
      "15         16     Paul              Math  3.0              NaN      NaN\n",
      "16         17   Quincy           Physics  3.4              NaN      NaN\n",
      "17         18   Rachel           Biology  3.6              NaN      NaN\n",
      "18         19    Steve  Computer Science  NaN              NaN      NaN\n",
      "19         20     Tina              Math  2.7              NaN      NaN\n",
      "20         21      Uma           Physics  3.5              NaN      NaN\n",
      "21         22   Victor           Biology  3.2              NaN      NaN\n",
      "22         23    Wendy  Computer Science  3.8              NaN      NaN\n",
      "23         24   Xander              Math  3.9              NaN      NaN\n",
      "24         25     Yara               NaN  NaN              NaN      NaN \n",
      "\n",
      "Outer Join:\n",
      "     StudentID     Name        Department  GPA           Course  Credits\n",
      "0           1    Alice              Math  3.8          Algebra      5.0\n",
      "1           2      Bob           Physics  3.4  Quantum Physics      6.0\n",
      "2           3  Charlie               NaN  NaN               AI      4.0\n",
      "3           4    David  Computer Science  3.9              NaN      NaN\n",
      "4           5      Eve              Math  3.2              NaN      NaN\n",
      "5           6    Frank           Biology  2.9       Philosophy      3.0\n",
      "6           7    Grace              Math  3.7              NaN      NaN\n",
      "7           8    Helen           Physics  3.5              NaN      NaN\n",
      "8           9      Ian  Computer Science  NaN              NaN      NaN\n",
      "9          10     Jack           Biology  3.0              NaN      NaN\n",
      "10         11    Karen              Math  3.6              NaN      NaN\n",
      "11         12      Leo           Physics  2.8              NaN      NaN\n",
      "12         13     Mona           Biology  3.1              NaN      NaN\n",
      "13         14     Nina               NaN  3.9              NaN      NaN\n",
      "14         15    Oscar  Computer Science  3.3              NaN      NaN\n",
      "15         16     Paul              Math  3.0              NaN      NaN\n",
      "16         17   Quincy           Physics  3.4              NaN      NaN\n",
      "17         18   Rachel           Biology  3.6              NaN      NaN\n",
      "18         19    Steve  Computer Science  NaN              NaN      NaN\n",
      "19         20     Tina              Math  2.7              NaN      NaN\n",
      "20         21      Uma           Physics  3.5              NaN      NaN\n",
      "21         22   Victor           Biology  3.2              NaN      NaN\n",
      "22         23    Wendy  Computer Science  3.8              NaN      NaN\n",
      "23         24   Xander              Math  3.9              NaN      NaN\n",
      "24         25     Yara               NaN  NaN              NaN      NaN \n",
      "\n"
     ]
    }
   ],
   "source": [
    "# Inner join on StudentID\n",
    "merged_inner = pd.merge(students, enrollments, on=\"StudentID\", how=\"inner\")\n",
    "print(\"Inner Join:\\n\", merged_inner, \"\\n\")\n",
    "\n",
    "# Left join\n",
    "merged_left = pd.merge(students, enrollments, on=\"StudentID\", how=\"left\")\n",
    "print(\"Left Join:\\n\", merged_left, \"\\n\")\n",
    "\n",
    "# Outer join\n",
    "merged_outer = pd.merge(students, enrollments, on=\"StudentID\", how=\"outer\")\n",
    "print(\"Outer Join:\\n\", merged_outer, \"\\n\")\n"
   ]
  },
  {
   "cell_type": "markdown",
   "id": "debdde94",
   "metadata": {},
   "source": [
    "## LISTS"
   ]
  },
  {
   "cell_type": "code",
   "execution_count": 32,
   "id": "47a8aca2",
   "metadata": {},
   "outputs": [
    {
     "name": "stdout",
     "output_type": "stream",
     "text": [
      "['apple', 'banana', 'cherry', 'date', 'elderberry']\n"
     ]
    }
   ],
   "source": [
    "fruits = [\"apple\", \"banana\", \"cherry\", \"date\", \"elderberry\"]\n",
    "print(fruits)"
   ]
  },
  {
   "cell_type": "code",
   "execution_count": 33,
   "id": "af0c7e3d",
   "metadata": {},
   "outputs": [
    {
     "name": "stdout",
     "output_type": "stream",
     "text": [
      "['apple', 'banana', 'grape', 'cherry', 'date', 'elderberry', 'fig']\n"
     ]
    }
   ],
   "source": [
    "fruits.append(\"fig\")           # add at the end\n",
    "fruits.insert(2, \"grape\")      # add at index 2\n",
    "print(fruits)"
   ]
  },
  {
   "cell_type": "code",
   "execution_count": null,
   "id": "01e31be7",
   "metadata": {},
   "outputs": [
    {
     "name": "stdout",
     "output_type": "stream",
     "text": [
      "['apple', 'grape', 'cherry', 'date', 'elderberry', 'fig']\n",
      "fig\n"
     ]
    }
   ],
   "source": [
    "fruits.remove(\"banana\")   # remove by value\n",
    "print(fruits)\n",
    "\n",
    "popped = fruits.pop()     # removes last element\n",
    "print(popped)             # 'fig'"
   ]
  },
  {
   "cell_type": "code",
   "execution_count": 35,
   "id": "616e5450",
   "metadata": {},
   "outputs": [
    {
     "name": "stdout",
     "output_type": "stream",
     "text": [
      "['apricot', 'grape', 'cherry', 'date', 'elderberry']\n"
     ]
    }
   ],
   "source": [
    "fruits[0] = \"apricot\"\n",
    "print(fruits)\n"
   ]
  },
  {
   "cell_type": "code",
   "execution_count": 39,
   "id": "e7b85abc",
   "metadata": {},
   "outputs": [
    {
     "name": "stdout",
     "output_type": "stream",
     "text": [
      "5\n"
     ]
    }
   ],
   "source": [
    "print(len(fruits))   # number of elements"
   ]
  },
  {
   "cell_type": "code",
   "execution_count": 40,
   "id": "dc2ce31c",
   "metadata": {},
   "outputs": [
    {
     "name": "stdout",
     "output_type": "stream",
     "text": [
      "['apricot', 'cherry', 'date', 'elderberry', 'grape']\n",
      "['grape', 'elderberry', 'date', 'cherry', 'apricot']\n"
     ]
    }
   ],
   "source": [
    "fruits.sort()          # sort in place\n",
    "print(fruits)\n",
    "\n",
    "fruits.sort(reverse=True)   # descending\n",
    "print(fruits)\n"
   ]
  },
  {
   "cell_type": "code",
   "execution_count": 41,
   "id": "c364ae56",
   "metadata": {},
   "outputs": [
    {
     "name": "stdout",
     "output_type": "stream",
     "text": [
      "['GRAPE', 'ELDERBERRY', 'DATE', 'CHERRY', 'APRICOT']\n"
     ]
    }
   ],
   "source": [
    "# Create a new list with fruit names in uppercase\n",
    "upper_fruits = [fruit.upper() for fruit in fruits]\n",
    "print(upper_fruits)\n"
   ]
  },
  {
   "cell_type": "markdown",
   "id": "77fb0e1f",
   "metadata": {},
   "source": [
    "# SETS"
   ]
  },
  {
   "cell_type": "code",
   "execution_count": 43,
   "id": "5cdc7713",
   "metadata": {},
   "outputs": [
    {
     "name": "stdout",
     "output_type": "stream",
     "text": [
      "{'apple', 'banana', 'cherry'}\n"
     ]
    }
   ],
   "source": [
    "fruits = {\"apple\", \"banana\", \"cherry\"}\n",
    "print(fruits)"
   ]
  },
  {
   "cell_type": "code",
   "execution_count": 45,
   "id": "8662a252",
   "metadata": {},
   "outputs": [
    {
     "name": "stdout",
     "output_type": "stream",
     "text": [
      "{'apple', 'date', 'cherry'}\n"
     ]
    }
   ],
   "source": [
    "fruits.add(\"date\")       # add new element\n",
    "fruits.remove(\"banana\")  # remove (error if not found)\n",
    "fruits.discard(\"kiwi\")   # remove safely (no error if not found)\n",
    "print(fruits)\n"
   ]
  },
  {
   "cell_type": "code",
   "execution_count": 46,
   "id": "7080b517",
   "metadata": {},
   "outputs": [
    {
     "name": "stdout",
     "output_type": "stream",
     "text": [
      "{'apple', 'fig', 'date', 'cherry', 'banana'}\n",
      "{'cherry'}\n"
     ]
    }
   ],
   "source": [
    "A = {\"apple\", \"banana\", \"cherry\"}\n",
    "B = {\"cherry\", \"date\", \"fig\"}\n",
    "\n",
    "print(A | B)   # union → {'apple', 'banana', 'cherry', 'date', 'fig'}\n",
    "print(A & B)   # intersection → {'cherry'}\n"
   ]
  },
  {
   "cell_type": "code",
   "execution_count": 47,
   "id": "efeee6fc",
   "metadata": {},
   "outputs": [
    {
     "name": "stdout",
     "output_type": "stream",
     "text": [
      "{'apple', 'banana'}\n",
      "{'fig', 'date'}\n",
      "{'banana', 'fig', 'apple', 'date'}\n"
     ]
    }
   ],
   "source": [
    "print(A - B)    # in A but not B → {'apple', 'banana'}\n",
    "print(B - A)    # in B but not A → {'date', 'fig'}\n",
    "print(A ^ B)    # symmetric difference → {'apple', 'banana', 'date', 'fig'}\n"
   ]
  },
  {
   "cell_type": "code",
   "execution_count": 48,
   "id": "b69cb701",
   "metadata": {},
   "outputs": [
    {
     "name": "stdout",
     "output_type": "stream",
     "text": [
      "{1, 2, 3, 4, 5}\n"
     ]
    }
   ],
   "source": [
    "nums = [1, 2, 2, 3, 4, 4, 5]\n",
    "unique_nums = set(nums)\n",
    "print(unique_nums)   # {1, 2, 3, 4, 5}\n"
   ]
  },
  {
   "cell_type": "markdown",
   "id": "9fbe3b6d",
   "metadata": {},
   "source": [
    "# LAMBDA"
   ]
  },
  {
   "cell_type": "markdown",
   "id": "b9141f3f",
   "metadata": {},
   "source": [
    "Simple math"
   ]
  },
  {
   "cell_type": "code",
   "execution_count": 1,
   "id": "f54d4fdc",
   "metadata": {},
   "outputs": [
    {
     "name": "stdout",
     "output_type": "stream",
     "text": [
      "8\n"
     ]
    }
   ],
   "source": [
    "add = lambda x, y: x + y\n",
    "print(add(3, 5))   # 8"
   ]
  },
  {
   "cell_type": "markdown",
   "id": "6701127d",
   "metadata": {},
   "source": [
    "Sorting with lambda"
   ]
  },
  {
   "cell_type": "code",
   "execution_count": 2,
   "id": "ecc12e95",
   "metadata": {},
   "outputs": [
    {
     "name": "stdout",
     "output_type": "stream",
     "text": [
      "['fig', 'apple', 'banana', 'cherry']\n"
     ]
    }
   ],
   "source": [
    "words = [\"banana\", \"apple\", \"fig\", \"cherry\"]\n",
    "\n",
    "# Sort by length\n",
    "print(sorted(words, key=lambda w: len(w)))  \n",
    "# ['fig', 'apple', 'banana', 'cherry']"
   ]
  },
  {
   "cell_type": "markdown",
   "id": "12d232ad",
   "metadata": {},
   "source": [
    "Map (like Function<T, R>)"
   ]
  },
  {
   "cell_type": "code",
   "execution_count": 3,
   "id": "312dedf4",
   "metadata": {},
   "outputs": [
    {
     "name": "stdout",
     "output_type": "stream",
     "text": [
      "[1, 4, 9, 16]\n"
     ]
    }
   ],
   "source": [
    "nums = [1, 2, 3, 4]\n",
    "squares = list(map(lambda x: x * x, nums))\n",
    "print(squares)  # [1, 4, 9, 16]"
   ]
  },
  {
   "cell_type": "markdown",
   "id": "a57de56a",
   "metadata": {},
   "source": [
    "Filter (like Predicate<T>)"
   ]
  },
  {
   "cell_type": "code",
   "execution_count": 4,
   "id": "12d93871",
   "metadata": {},
   "outputs": [
    {
     "name": "stdout",
     "output_type": "stream",
     "text": [
      "[2, 4, 6]\n"
     ]
    }
   ],
   "source": [
    "nums = [1, 2, 3, 4, 5, 6]\n",
    "evens = list(filter(lambda x: x % 2 == 0, nums))\n",
    "print(evens)  # [2, 4, 6]"
   ]
  },
  {
   "cell_type": "markdown",
   "id": "02e8a6db",
   "metadata": {},
   "source": [
    "Reduce (like aggregation)"
   ]
  },
  {
   "cell_type": "code",
   "execution_count": 5,
   "id": "a95e14c2",
   "metadata": {},
   "outputs": [
    {
     "name": "stdout",
     "output_type": "stream",
     "text": [
      "10\n"
     ]
    }
   ],
   "source": [
    "from functools import reduce\n",
    "\n",
    "nums = [1, 2, 3, 4]\n",
    "total = reduce(lambda a, b: a + b, nums)\n",
    "print(total)  # 10"
   ]
  },
  {
   "cell_type": "markdown",
   "id": "63290411",
   "metadata": {},
   "source": [
    "With sorted on tuple"
   ]
  },
  {
   "cell_type": "code",
   "execution_count": 6,
   "id": "bff594d1",
   "metadata": {},
   "outputs": [
    {
     "name": "stdout",
     "output_type": "stream",
     "text": [
      "[(1, 'a'), (2, 'b'), (3, 'c')]\n",
      "[(1, 'a'), (2, 'b'), (3, 'c')]\n"
     ]
    }
   ],
   "source": [
    "pairs = [(1, \"a\"), (3, \"c\"), (2, \"b\")]\n",
    "print(sorted(pairs, key=lambda x: x[0]))  # sort by first\n",
    "print(sorted(pairs, key=lambda x: x[1]))  # sort by second"
   ]
  }
 ],
 "metadata": {
  "kernelspec": {
   "display_name": "music-chatbot",
   "language": "python",
   "name": "python3"
  },
  "language_info": {
   "codemirror_mode": {
    "name": "ipython",
    "version": 3
   },
   "file_extension": ".py",
   "mimetype": "text/x-python",
   "name": "python",
   "nbconvert_exporter": "python",
   "pygments_lexer": "ipython3",
   "version": "3.10.18"
  }
 },
 "nbformat": 4,
 "nbformat_minor": 5
}
