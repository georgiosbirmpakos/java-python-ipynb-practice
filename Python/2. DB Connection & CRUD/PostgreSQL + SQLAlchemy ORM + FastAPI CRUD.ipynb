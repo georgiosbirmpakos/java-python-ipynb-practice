{
 "cells": [
  {
   "cell_type": "markdown",
   "id": "b2bcd223",
   "metadata": {},
   "source": [
    "## Create database connection engine"
   ]
  },
  {
   "cell_type": "code",
   "execution_count": 1,
   "id": "0240d056",
   "metadata": {},
   "outputs": [],
   "source": [
    "from sqlalchemy import create_engine\n",
    "from configparser import ConfigParser\n",
    "\n",
    "\n",
    "def config(filename='database.ini', section='postgresql'):\n",
    "    # create a parser\n",
    "    parser = ConfigParser()\n",
    "    # read config file\n",
    "    parser.read(filename)\n",
    "\n",
    "    # get section, default to postgresql\n",
    "    db = {}\n",
    "    if parser.has_section(section):\n",
    "        params = parser.items(section)\n",
    "        for param in params:\n",
    "            db[param[0]] = param[1]\n",
    "    else:\n",
    "        raise Exception('Section {0} not found in the {1} file'.format(section, filename))\n",
    "\n",
    "    return db\n",
    "\n",
    "params = config()\n",
    "\n",
    "DB_URL = (\n",
    "    f\"postgresql+psycopg2://{params['user']}:{params['password']}\"\n",
    "    f\"@{params['host']}:{params['port']}/{params['dbname']}\"\n",
    ")\n",
    "\n",
    "# Create an engine and connect to the database\n",
    "engine = create_engine(DB_URL, echo=False, future=True)"
   ]
  },
  {
   "cell_type": "markdown",
   "id": "a70769b6",
   "metadata": {},
   "source": [
    "Create a session to interact with the database"
   ]
  },
  {
   "cell_type": "code",
   "execution_count": 2,
   "id": "efbcd9b8",
   "metadata": {},
   "outputs": [],
   "source": [
    "from sqlalchemy.orm import sessionmaker\n",
    "\n",
    "Session = sessionmaker(bind=engine)\n",
    "session = Session()"
   ]
  },
  {
   "cell_type": "markdown",
   "id": "6370d98f",
   "metadata": {},
   "source": [
    "# CREATING CLASSES AND CRUD OPERATIONS"
   ]
  },
  {
   "cell_type": "code",
   "execution_count": 3,
   "id": "c1eb9c4b",
   "metadata": {},
   "outputs": [],
   "source": [
    "from sqlalchemy.orm import relationship\n",
    "from sqlalchemy import Column, Integer, String, Text\n",
    "from sqlalchemy.orm import declarative_base\n",
    "\n",
    "Base = declarative_base()"
   ]
  },
  {
   "cell_type": "markdown",
   "id": "43f6d1fd",
   "metadata": {},
   "source": [
    "## ESG_CATEGORY CLASS"
   ]
  },
  {
   "cell_type": "code",
   "execution_count": 4,
   "id": "27ee1eba",
   "metadata": {},
   "outputs": [],
   "source": [
    "class ESGCategory(Base):\n",
    "    __tablename__ = \"esg_categories\"\n",
    "\n",
    "    id = Column(Integer, primary_key=True)\n",
    "    label = Column(String(20), unique=True)\n",
    "    category_name = Column(Text)\n",
    "    description = Column(Text)\n",
    "\n",
    "    def __repr__(self):\n",
    "        return (\n",
    "            f\"<ESGCategory(id={self.id}, \"\n",
    "            f\"label={self.label!r}, \"\n",
    "            f\"category_name={self.category_name!r}, \"\n",
    "            f\"description={self.description!r})>\"\n",
    "        )"
   ]
  },
  {
   "cell_type": "markdown",
   "id": "574f5db6",
   "metadata": {},
   "source": [
    "CRUD OPERATIONS"
   ]
  },
  {
   "cell_type": "code",
   "execution_count": 5,
   "id": "0e54e999",
   "metadata": {},
   "outputs": [
    {
     "name": "stdout",
     "output_type": "stream",
     "text": [
      "Succesfully created and read <ESGCategory(id=15, label='T', category_name='Test', description='Test topics')> \n",
      "\n",
      "Successfully updated = <ESGCategory(id=15, label='T', category_name='I Changed!', description='Test topics')> \n",
      "\n",
      "Successfully deleted id=15\n"
     ]
    }
   ],
   "source": [
    "# Create\n",
    "new_cat = ESGCategory(label=\"T\", category_name=\"Test\", description=\"Test topics\")\n",
    "session.add(new_cat)\n",
    "session.commit()\n",
    "\n",
    "# READ OPERATION\n",
    "cat = session.query(ESGCategory).filter_by(label=\"T\").first()\n",
    "print(f\"Succesfully created and read {cat}\",\"\\n\")\n",
    "\n",
    "# UPDATE OPERATION\n",
    "if cat:\n",
    "    try:\n",
    "        cat.category_name = \"I Changed!\"\n",
    "        session.commit()\n",
    "        print(f\"Successfully updated = {cat}\",\"\\n\")\n",
    "    except:\n",
    "        print(\"something went wrong\")\n",
    "\n",
    "# DELETE OPERATION\n",
    "if cat:\n",
    "    try:\n",
    "        session.delete(cat)\n",
    "        session.commit()\n",
    "        print(f\"Successfully deleted id={cat.id}\") \n",
    "    except:\n",
    "        print(\"something went wrong\")\n",
    "     "
   ]
  },
  {
   "cell_type": "markdown",
   "id": "cbfd28a7",
   "metadata": {},
   "source": [
    "## PLATFORM CLASS"
   ]
  },
  {
   "cell_type": "code",
   "execution_count": 6,
   "id": "b9e5a8f1",
   "metadata": {},
   "outputs": [],
   "source": [
    "class Platform(Base):\n",
    "    __tablename__ = \"platforms\"\n",
    "\n",
    "    id = Column(Integer, primary_key=True)\n",
    "    name = Column(String(50), unique=True)\n",
    "\n",
    "    def __repr__(self):\n",
    "        return f\"<Platform(id={self.id}, name={self.name!r})>\"\n"
   ]
  },
  {
   "cell_type": "code",
   "execution_count": 7,
   "id": "83087996",
   "metadata": {},
   "outputs": [
    {
     "name": "stdout",
     "output_type": "stream",
     "text": [
      "Read: <Platform(id=7, name='Twitter')>\n",
      "Updated: <Platform(id=7, name='X')>\n",
      "Deleted platform id=7\n"
     ]
    }
   ],
   "source": [
    "# CREATE\n",
    "new_platform = Platform(name=\"Twitter\")\n",
    "session.add(new_platform)\n",
    "session.commit()\n",
    "\n",
    "# READ\n",
    "plat = session.query(Platform).filter_by(name=\"Twitter\").first()\n",
    "print(\"Read:\", plat)\n",
    "\n",
    "# UPDATE\n",
    "if plat:\n",
    "    plat.name = \"X\"\n",
    "    session.commit()\n",
    "    print(\"Updated:\", plat)\n",
    "\n",
    "# DELETE\n",
    "if plat:\n",
    "    session.delete(plat)\n",
    "    session.commit()\n",
    "    print(f\"Deleted platform id={plat.id}\")"
   ]
  },
  {
   "cell_type": "markdown",
   "id": "e0ad10cd",
   "metadata": {},
   "source": [
    "## SENTIMENT_LABELS CLASS"
   ]
  },
  {
   "cell_type": "code",
   "execution_count": 8,
   "id": "f257386c",
   "metadata": {},
   "outputs": [],
   "source": [
    "class SentimentLabel(Base):\n",
    "    __tablename__ = \"sentiment_labels\"\n",
    "\n",
    "    id = Column(Integer, primary_key=True)\n",
    "    label = Column(String(20), unique=True)\n",
    "    description = Column(Text)\n",
    "\n",
    "    def __repr__(self):\n",
    "        return f\"<SentimentLabel(id={self.id}, label={self.label!r}, description={self.description!r})>\""
   ]
  },
  {
   "cell_type": "code",
   "execution_count": 9,
   "id": "e2a565a6",
   "metadata": {},
   "outputs": [
    {
     "name": "stdout",
     "output_type": "stream",
     "text": [
      "Created: <SentimentLabel(id=7, label='positive', description='Positive sentiment')>\n",
      "\n",
      "Read: <SentimentLabel(id=7, label='positive', description='Positive sentiment')>\n",
      "\n",
      "Updated: <SentimentLabel(id=7, label='positive', description='Optimistic / approving tone')>\n",
      "\n",
      "Deleted SentimentLabel id=7\n",
      "\n"
     ]
    }
   ],
   "source": [
    "# CREATE\n",
    "new_sentiment = SentimentLabel(label=\"positive\", description=\"Positive sentiment\")\n",
    "session.add(new_sentiment)\n",
    "session.commit()\n",
    "print(f\"Created: {new_sentiment}\\n\")\n",
    "\n",
    "# READ\n",
    "sent = session.query(SentimentLabel).filter_by(label=\"positive\").first()\n",
    "print(f\"Read: {sent}\\n\")\n",
    "\n",
    "# UPDATE\n",
    "if sent:\n",
    "    try:\n",
    "        sent.description = \"Optimistic / approving tone\"\n",
    "        session.commit()\n",
    "        print(f\"Updated: {sent}\\n\")\n",
    "    except Exception as e:\n",
    "        print(\"Update failed:\", e)\n",
    "\n",
    "# DELETE\n",
    "if sent:\n",
    "    try:\n",
    "        session.delete(sent)\n",
    "        session.commit()\n",
    "        print(f\"Deleted SentimentLabel id={sent.id}\\n\")\n",
    "    except Exception as e:\n",
    "        print(\"Delete failed:\", e)"
   ]
  },
  {
   "cell_type": "markdown",
   "id": "3fbf3495",
   "metadata": {},
   "source": [
    "## ESG_Keywords Class"
   ]
  },
  {
   "cell_type": "code",
   "execution_count": 10,
   "id": "1953fe61",
   "metadata": {},
   "outputs": [],
   "source": [
    "from sqlalchemy import Boolean\n",
    "\n",
    "class ESGKeyword(Base):\n",
    "    __tablename__ = \"esg_keywords\"\n",
    "\n",
    "    id = Column(Integer, primary_key=True)\n",
    "    keyword = Column(Text, nullable=False)\n",
    "    category = Column(String(1))  # 'E' | 'S' | 'G'\n",
    "    language = Column(String(10), default=\"el\")\n",
    "    active = Column(Boolean, default=True)  # Boolean stored as int\n",
    "    inserted_at = Column(Text)           # could map to DateTime if preferred\n",
    "\n",
    "    def __repr__(self):\n",
    "        return (\n",
    "            f\"<ESGKeyword(id={self.id}, keyword={self.keyword!r}, \"\n",
    "            f\"category={self.category!r}, language={self.language!r}, active={self.active})>\"\n",
    "        )\n"
   ]
  },
  {
   "cell_type": "code",
   "execution_count": 11,
   "id": "48a529f8",
   "metadata": {},
   "outputs": [
    {
     "name": "stdout",
     "output_type": "stream",
     "text": [
      "Created: <ESGKeyword(id=196, keyword='climate change', category='E', language='en', active=True)>\n",
      "\n",
      "Read: <ESGKeyword(id=196, keyword='climate change', category='E', language='en', active=True)>\n",
      "\n",
      "Updated: <ESGKeyword(id=196, keyword='global warming', category='E', language='en', active=False)>\n",
      "\n",
      "Deleted ESGKeyword id=196\n",
      "\n"
     ]
    }
   ],
   "source": [
    "# CREATE\n",
    "new_kw = ESGKeyword(keyword=\"climate change\", category=\"E\", language=\"en\", active=True)\n",
    "session.add(new_kw)\n",
    "session.commit()\n",
    "print(f\"Created: {new_kw}\\n\")\n",
    "\n",
    "# READ\n",
    "kw = session.query(ESGKeyword).filter_by(keyword=\"climate change\").first()\n",
    "print(f\"Read: {kw}\\n\")\n",
    "\n",
    "# UPDATE\n",
    "if kw:\n",
    "    try:\n",
    "        kw.keyword = \"global warming\"\n",
    "        kw.active = False\n",
    "        session.commit()\n",
    "        print(f\"Updated: {kw}\\n\")\n",
    "    except Exception as e:\n",
    "        print(\"Update failed:\", e)\n",
    "\n",
    "# DELETE\n",
    "if kw:\n",
    "    try:\n",
    "        session.delete(kw)\n",
    "        session.commit()\n",
    "        print(f\"Deleted ESGKeyword id={kw.id}\\n\")\n",
    "    except Exception as e:\n",
    "        print(\"Delete failed:\", e)"
   ]
  },
  {
   "cell_type": "code",
   "execution_count": 12,
   "id": "9b4cffa4",
   "metadata": {},
   "outputs": [
    {
     "data": {
      "text/plain": [
       "193"
      ]
     },
     "execution_count": 12,
     "metadata": {},
     "output_type": "execute_result"
    }
   ],
   "source": [
    "session.query(ESGKeyword).count()"
   ]
  },
  {
   "cell_type": "code",
   "execution_count": 13,
   "id": "761275bc",
   "metadata": {},
   "outputs": [
    {
     "data": {
      "text/plain": [
       "[<Platform(id=1, name='Palowise')>,\n",
       " <Platform(id=2, name='Reddit')>,\n",
       " <Platform(id=3, name='Youtube')>]"
      ]
     },
     "execution_count": 13,
     "metadata": {},
     "output_type": "execute_result"
    }
   ],
   "source": [
    "all_platforms = session.query(Platform).all()\n",
    "all_platforms"
   ]
  },
  {
   "cell_type": "markdown",
   "id": "acbf39ba",
   "metadata": {},
   "source": [
    "## Social_Posts Class"
   ]
  },
  {
   "cell_type": "code",
   "execution_count": 14,
   "id": "cce5cd46",
   "metadata": {},
   "outputs": [],
   "source": [
    "from sqlalchemy import ForeignKey, DateTime\n",
    "\n",
    "class SocialPost(Base):\n",
    "    __tablename__ = \"social_posts\"\n",
    "\n",
    "    post_id = Column(Integer, primary_key=True)\n",
    "    post_text = Column(Text)\n",
    "    esg_id = Column(Integer, ForeignKey(\"esg_categories.id\"))\n",
    "    sentiment_id = Column(Integer, ForeignKey(\"sentiment_labels.id\"))\n",
    "    platform_id = Column(Integer, ForeignKey(\"platforms.id\"))\n",
    "    engagement = Column(Integer)\n",
    "    likes = Column(Integer)\n",
    "    dislikes = Column(Integer)\n",
    "    date_published = Column(DateTime)\n",
    "    author = Column(String(150))\n",
    "    url = Column(Text)\n",
    "    description = Column(Text)\n",
    "    other = Column(Text)\n",
    "    date_insert = Column(DateTime)\n",
    "\n",
    "    def __repr__(self):\n",
    "        return (\n",
    "            f\"<SocialPost(post_id={self.post_id}, author={self.author!r}, \"\n",
    "            f\"engagement={self.engagement}, platform_id={self.platform_id}, \"\n",
    "            f\"esg_id={self.esg_id}, sentiment_id={self.sentiment_id})>\"\n",
    "        )"
   ]
  },
  {
   "cell_type": "code",
   "execution_count": 15,
   "id": "e05b2a60",
   "metadata": {},
   "outputs": [
    {
     "name": "stdout",
     "output_type": "stream",
     "text": [
      "Created: <SocialPost(post_id=89649, author='John Doe', engagement=100, platform_id=1, esg_id=1, sentiment_id=1)> \n",
      "\n",
      "Read: <SocialPost(post_id=89649, author='John Doe', engagement=100, platform_id=1, esg_id=1, sentiment_id=1)> \n",
      "\n",
      "Updated: <SocialPost(post_id=89649, author='John Doe', engagement=150, platform_id=1, esg_id=1, sentiment_id=1)> \n",
      "\n",
      "Deleted SocialPost id=89649\n",
      "\n"
     ]
    }
   ],
   "source": [
    "from datetime import datetime\n",
    "\n",
    "# CREATE\n",
    "new_post = SocialPost(\n",
    "    post_text=\"This is a test ESG post\",\n",
    "    esg_id=1,               # must exist in esg_categories\n",
    "    sentiment_id=1,         # must exist in sentiment_labels\n",
    "    platform_id=1,          # must exist in platforms\n",
    "    engagement=100,\n",
    "    likes=80,\n",
    "    dislikes=5,\n",
    "    date_published=datetime(2025, 9, 2, 12, 0),\n",
    "    author=\"John Doe\",\n",
    "    url=\"http://example.com/post/1\",\n",
    "    description=\"Demo description\",\n",
    "    other=\"Extra field\"\n",
    ")\n",
    "session.add(new_post)\n",
    "session.commit()\n",
    "print(\"Created:\", new_post, \"\\n\")\n",
    "\n",
    "# READ\n",
    "post = session.query(SocialPost).filter_by(author=\"John Doe\").first()\n",
    "print(\"Read:\", post, \"\\n\")\n",
    "\n",
    "# UPDATE\n",
    "if post:\n",
    "    try:\n",
    "        post.engagement = 150\n",
    "        session.commit()\n",
    "        print(\"Updated:\", post, \"\\n\")\n",
    "    except Exception as e:\n",
    "        print(\"Update failed:\", e)\n",
    "\n",
    "# DELETE\n",
    "if post:\n",
    "    try:\n",
    "        session.delete(post)\n",
    "        session.commit()\n",
    "        print(f\"Deleted SocialPost id={post.post_id}\\n\")\n",
    "    except Exception as e:\n",
    "        print(\"Delete failed:\", e)\n"
   ]
  },
  {
   "cell_type": "code",
   "execution_count": 16,
   "id": "c7dd8c93",
   "metadata": {},
   "outputs": [],
   "source": [
    "from fastapi import FastAPI, Depends, HTTPException\n",
    "from sqlalchemy.orm import Session\n",
    "from sqlalchemy.orm import sessionmaker, Session\n",
    "\n",
    "# make sure this uses the engine you already created\n",
    "SessionLocal = sessionmaker(autocommit=False, autoflush=False, bind=engine)\n",
    "\n",
    "def get_db():\n",
    "    db = SessionLocal()\n",
    "    try:\n",
    "        yield db\n",
    "    finally:\n",
    "        db.close()\n",
    "\n",
    "app = FastAPI(title=\"ESG CRUD API\")\n",
    "# ----------- ESGCategory Endpoints -----------\n",
    "\n",
    "@app.post(\"/categories/\")\n",
    "def create_category(label: str, name: str, description: str, db: Session = Depends(get_db)):\n",
    "    new_cat = ESGCategory(label=label, category_name=name, description=description)\n",
    "    db.add(new_cat)\n",
    "    db.commit()\n",
    "    db.refresh(new_cat)\n",
    "    return new_cat\n",
    "\n",
    "@app.get(\"/categories/\")\n",
    "def get_categories(db: Session = Depends(get_db)):\n",
    "    return db.query(ESGCategory).all()\n",
    "\n",
    "@app.get(\"/categories/{cat_id}\")\n",
    "def get_category(cat_id: int, db: Session = Depends(get_db)):\n",
    "    cat = db.query(ESGCategory).filter(ESGCategory.id == cat_id).first()\n",
    "    if not cat:\n",
    "        raise HTTPException(status_code=404, detail=\"Category not found\")\n",
    "    return cat\n",
    "\n",
    "@app.put(\"/categories/{cat_id}\")\n",
    "def update_category(cat_id: int, name: str, description: str, db: Session = Depends(get_db)):\n",
    "    cat = db.query(ESGCategory).filter(ESGCategory.id == cat_id).first()\n",
    "    if not cat:\n",
    "        raise HTTPException(status_code=404, detail=\"Category not found\")\n",
    "    cat.category_name = name\n",
    "    cat.description = description\n",
    "    db.commit()\n",
    "    db.refresh(cat)\n",
    "    return cat\n",
    "\n",
    "@app.delete(\"/categories/{cat_id}\")\n",
    "def delete_category(cat_id: int, db: Session = Depends(get_db)):\n",
    "    cat = db.query(ESGCategory).filter(ESGCategory.id == cat_id).first()\n",
    "    if not cat:\n",
    "        raise HTTPException(status_code=404, detail=\"Category not found\")\n",
    "    db.delete(cat)\n",
    "    db.commit()\n",
    "    return {\"message\": f\"Category {cat_id} deleted\"}"
   ]
  },
  {
   "cell_type": "code",
   "execution_count": 17,
   "id": "831513af",
   "metadata": {},
   "outputs": [
    {
     "name": "stderr",
     "output_type": "stream",
     "text": [
      "INFO:     Started server process [24908]\n",
      "INFO:     Waiting for application startup.\n",
      "INFO:     Application startup complete.\n",
      "INFO:     Uvicorn running on http://0.0.0.0:8000 (Press CTRL+C to quit)\n",
      "INFO:     Shutting down\n",
      "INFO:     Waiting for application shutdown.\n",
      "INFO:     Application shutdown complete.\n",
      "INFO:     Finished server process [24908]\n"
     ]
    }
   ],
   "source": [
    "import nest_asyncio\n",
    "import uvicorn\n",
    "\n",
    "nest_asyncio.apply()  # allow nested event loops in Jupyter\n",
    "\n",
    "uvicorn.run(app, host=\"0.0.0.0\", port=8000, reload=False)"
   ]
  }
 ],
 "metadata": {
  "kernelspec": {
   "display_name": "music-chatbot",
   "language": "python",
   "name": "python3"
  },
  "language_info": {
   "codemirror_mode": {
    "name": "ipython",
    "version": 3
   },
   "file_extension": ".py",
   "mimetype": "text/x-python",
   "name": "python",
   "nbconvert_exporter": "python",
   "pygments_lexer": "ipython3",
   "version": "3.10.18"
  }
 },
 "nbformat": 4,
 "nbformat_minor": 5
}
